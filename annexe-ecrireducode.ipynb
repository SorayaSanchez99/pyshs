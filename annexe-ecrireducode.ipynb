{
 "cells": [
  {
   "cell_type": "code",
   "execution_count": 1,
   "metadata": {
    "attributes": {
     "classes": [],
     "error": "True",
     "id": ""
    },
    "execution": {
     "iopub.execute_input": "2020-12-22T18:44:41.364839Z",
     "iopub.status.busy": "2020-12-22T18:44:41.363511Z",
     "iopub.status.idle": "2020-12-22T18:44:41.646350Z",
     "shell.execute_reply": "2020-12-22T18:44:41.644381Z"
    },
    "tags": [
     "raises-exception"
    ]
   },
   "outputs": [
    {
     "ename": "NameError",
     "evalue": "name 'pd' is not defined",
     "output_type": "error",
     "traceback": [
      "\u001b[0;31m------------------------------------------------------------\u001b[0m",
      "\u001b[0;31mNameError\u001b[0m                  Traceback (most recent call last)",
      "\u001b[0;32m<ipython-input-1-4fd937a84d04>\u001b[0m in \u001b[0;36m<module>\u001b[0;34m\u001b[0m\n\u001b[0;32m----> 1\u001b[0;31m \u001b[0mtableau\u001b[0m \u001b[0;34m=\u001b[0m \u001b[0mpd\u001b[0m\u001b[0;34m.\u001b[0m\u001b[0mread_csv\u001b[0m\u001b[0;34m(\u001b[0m\u001b[0;34m\"base-pop-2015-communes.csv\"\u001b[0m\u001b[0;34m)\u001b[0m\u001b[0;34m\u001b[0m\u001b[0;34m\u001b[0m\u001b[0m\n\u001b[0m",
      "\u001b[0;31mNameError\u001b[0m: name 'pd' is not defined"
     ]
    }
   ],
   "source": [
    "tableau = pd.read_csv(\"base-pop-2015-communes.csv\")"
   ]
  },
  {
   "cell_type": "code",
   "execution_count": 2,
   "metadata": {
    "attributes": {
     "classes": [],
     "error": "True",
     "id": ""
    },
    "execution": {
     "iopub.execute_input": "2020-12-22T18:44:41.765057Z",
     "iopub.status.busy": "2020-12-22T18:44:41.763605Z",
     "iopub.status.idle": "2020-12-22T18:44:43.178551Z",
     "shell.execute_reply": "2020-12-22T18:44:43.177124Z"
    },
    "tags": [
     "raises-exception"
    ]
   },
   "outputs": [
    {
     "ename": "FileNotFoundError",
     "evalue": "[Errno 2] No such file or directory: 'base-pop-2015-communes.csv'",
     "output_type": "error",
     "traceback": [
      "\u001b[0;31m------------------------------------------------------------\u001b[0m",
      "\u001b[0;31mFileNotFoundError\u001b[0m          Traceback (most recent call last)",
      "\u001b[0;32m<ipython-input-2-b04da0c9f3e1>\u001b[0m in \u001b[0;36m<module>\u001b[0;34m\u001b[0m\n\u001b[1;32m      1\u001b[0m \u001b[0;32mimport\u001b[0m \u001b[0mpandas\u001b[0m \u001b[0;32mas\u001b[0m \u001b[0mpd\u001b[0m\u001b[0;34m\u001b[0m\u001b[0;34m\u001b[0m\u001b[0m\n\u001b[0;32m----> 2\u001b[0;31m \u001b[0mtableau\u001b[0m \u001b[0;34m=\u001b[0m \u001b[0mpd\u001b[0m\u001b[0;34m.\u001b[0m\u001b[0mread_csv\u001b[0m\u001b[0;34m(\u001b[0m\u001b[0;34m\"base-pop-2015-communes.csv\"\u001b[0m\u001b[0;34m)\u001b[0m\u001b[0;34m\u001b[0m\u001b[0;34m\u001b[0m\u001b[0m\n\u001b[0m",
      "\u001b[0;32m~/miniconda3/envs/pyshs/lib/python3.8/site-packages/pandas/io/parsers.py\u001b[0m in \u001b[0;36mread_csv\u001b[0;34m(filepath_or_buffer, sep, delimiter, header, names, index_col, usecols, squeeze, prefix, mangle_dupe_cols, dtype, engine, converters, true_values, false_values, skipinitialspace, skiprows, skipfooter, nrows, na_values, keep_default_na, na_filter, verbose, skip_blank_lines, parse_dates, infer_datetime_format, keep_date_col, date_parser, dayfirst, cache_dates, iterator, chunksize, compression, thousands, decimal, lineterminator, quotechar, quoting, doublequote, escapechar, comment, encoding, dialect, error_bad_lines, warn_bad_lines, delim_whitespace, low_memory, memory_map, float_precision)\u001b[0m\n\u001b[1;32m    684\u001b[0m     )\n\u001b[1;32m    685\u001b[0m \u001b[0;34m\u001b[0m\u001b[0m\n\u001b[0;32m--> 686\u001b[0;31m     \u001b[0;32mreturn\u001b[0m \u001b[0m_read\u001b[0m\u001b[0;34m(\u001b[0m\u001b[0mfilepath_or_buffer\u001b[0m\u001b[0;34m,\u001b[0m \u001b[0mkwds\u001b[0m\u001b[0;34m)\u001b[0m\u001b[0;34m\u001b[0m\u001b[0;34m\u001b[0m\u001b[0m\n\u001b[0m\u001b[1;32m    687\u001b[0m \u001b[0;34m\u001b[0m\u001b[0m\n\u001b[1;32m    688\u001b[0m \u001b[0;34m\u001b[0m\u001b[0m\n",
      "\u001b[0;32m~/miniconda3/envs/pyshs/lib/python3.8/site-packages/pandas/io/parsers.py\u001b[0m in \u001b[0;36m_read\u001b[0;34m(filepath_or_buffer, kwds)\u001b[0m\n\u001b[1;32m    450\u001b[0m \u001b[0;34m\u001b[0m\u001b[0m\n\u001b[1;32m    451\u001b[0m     \u001b[0;31m# Create the parser.\u001b[0m\u001b[0;34m\u001b[0m\u001b[0;34m\u001b[0m\u001b[0;34m\u001b[0m\u001b[0m\n\u001b[0;32m--> 452\u001b[0;31m     \u001b[0mparser\u001b[0m \u001b[0;34m=\u001b[0m \u001b[0mTextFileReader\u001b[0m\u001b[0;34m(\u001b[0m\u001b[0mfp_or_buf\u001b[0m\u001b[0;34m,\u001b[0m \u001b[0;34m**\u001b[0m\u001b[0mkwds\u001b[0m\u001b[0;34m)\u001b[0m\u001b[0;34m\u001b[0m\u001b[0;34m\u001b[0m\u001b[0m\n\u001b[0m\u001b[1;32m    453\u001b[0m \u001b[0;34m\u001b[0m\u001b[0m\n\u001b[1;32m    454\u001b[0m     \u001b[0;32mif\u001b[0m \u001b[0mchunksize\u001b[0m \u001b[0;32mor\u001b[0m \u001b[0miterator\u001b[0m\u001b[0;34m:\u001b[0m\u001b[0;34m\u001b[0m\u001b[0;34m\u001b[0m\u001b[0m\n",
      "\u001b[0;32m~/miniconda3/envs/pyshs/lib/python3.8/site-packages/pandas/io/parsers.py\u001b[0m in \u001b[0;36m__init__\u001b[0;34m(self, f, engine, **kwds)\u001b[0m\n\u001b[1;32m    934\u001b[0m             \u001b[0mself\u001b[0m\u001b[0;34m.\u001b[0m\u001b[0moptions\u001b[0m\u001b[0;34m[\u001b[0m\u001b[0;34m\"has_index_names\"\u001b[0m\u001b[0;34m]\u001b[0m \u001b[0;34m=\u001b[0m \u001b[0mkwds\u001b[0m\u001b[0;34m[\u001b[0m\u001b[0;34m\"has_index_names\"\u001b[0m\u001b[0;34m]\u001b[0m\u001b[0;34m\u001b[0m\u001b[0;34m\u001b[0m\u001b[0m\n\u001b[1;32m    935\u001b[0m \u001b[0;34m\u001b[0m\u001b[0m\n\u001b[0;32m--> 936\u001b[0;31m         \u001b[0mself\u001b[0m\u001b[0;34m.\u001b[0m\u001b[0m_make_engine\u001b[0m\u001b[0;34m(\u001b[0m\u001b[0mself\u001b[0m\u001b[0;34m.\u001b[0m\u001b[0mengine\u001b[0m\u001b[0;34m)\u001b[0m\u001b[0;34m\u001b[0m\u001b[0;34m\u001b[0m\u001b[0m\n\u001b[0m\u001b[1;32m    937\u001b[0m \u001b[0;34m\u001b[0m\u001b[0m\n\u001b[1;32m    938\u001b[0m     \u001b[0;32mdef\u001b[0m \u001b[0mclose\u001b[0m\u001b[0;34m(\u001b[0m\u001b[0mself\u001b[0m\u001b[0;34m)\u001b[0m\u001b[0;34m:\u001b[0m\u001b[0;34m\u001b[0m\u001b[0;34m\u001b[0m\u001b[0m\n",
      "\u001b[0;32m~/miniconda3/envs/pyshs/lib/python3.8/site-packages/pandas/io/parsers.py\u001b[0m in \u001b[0;36m_make_engine\u001b[0;34m(self, engine)\u001b[0m\n\u001b[1;32m   1166\u001b[0m     \u001b[0;32mdef\u001b[0m \u001b[0m_make_engine\u001b[0m\u001b[0;34m(\u001b[0m\u001b[0mself\u001b[0m\u001b[0;34m,\u001b[0m \u001b[0mengine\u001b[0m\u001b[0;34m=\u001b[0m\u001b[0;34m\"c\"\u001b[0m\u001b[0;34m)\u001b[0m\u001b[0;34m:\u001b[0m\u001b[0;34m\u001b[0m\u001b[0;34m\u001b[0m\u001b[0m\n\u001b[1;32m   1167\u001b[0m         \u001b[0;32mif\u001b[0m \u001b[0mengine\u001b[0m \u001b[0;34m==\u001b[0m \u001b[0;34m\"c\"\u001b[0m\u001b[0;34m:\u001b[0m\u001b[0;34m\u001b[0m\u001b[0;34m\u001b[0m\u001b[0m\n\u001b[0;32m-> 1168\u001b[0;31m             \u001b[0mself\u001b[0m\u001b[0;34m.\u001b[0m\u001b[0m_engine\u001b[0m \u001b[0;34m=\u001b[0m \u001b[0mCParserWrapper\u001b[0m\u001b[0;34m(\u001b[0m\u001b[0mself\u001b[0m\u001b[0;34m.\u001b[0m\u001b[0mf\u001b[0m\u001b[0;34m,\u001b[0m \u001b[0;34m**\u001b[0m\u001b[0mself\u001b[0m\u001b[0;34m.\u001b[0m\u001b[0moptions\u001b[0m\u001b[0;34m)\u001b[0m\u001b[0;34m\u001b[0m\u001b[0;34m\u001b[0m\u001b[0m\n\u001b[0m\u001b[1;32m   1169\u001b[0m         \u001b[0;32melse\u001b[0m\u001b[0;34m:\u001b[0m\u001b[0;34m\u001b[0m\u001b[0;34m\u001b[0m\u001b[0m\n\u001b[1;32m   1170\u001b[0m             \u001b[0;32mif\u001b[0m \u001b[0mengine\u001b[0m \u001b[0;34m==\u001b[0m \u001b[0;34m\"python\"\u001b[0m\u001b[0;34m:\u001b[0m\u001b[0;34m\u001b[0m\u001b[0;34m\u001b[0m\u001b[0m\n",
      "\u001b[0;32m~/miniconda3/envs/pyshs/lib/python3.8/site-packages/pandas/io/parsers.py\u001b[0m in \u001b[0;36m__init__\u001b[0;34m(self, src, **kwds)\u001b[0m\n\u001b[1;32m   1996\u001b[0m         \u001b[0mkwds\u001b[0m\u001b[0;34m[\u001b[0m\u001b[0;34m\"usecols\"\u001b[0m\u001b[0;34m]\u001b[0m \u001b[0;34m=\u001b[0m \u001b[0mself\u001b[0m\u001b[0;34m.\u001b[0m\u001b[0musecols\u001b[0m\u001b[0;34m\u001b[0m\u001b[0;34m\u001b[0m\u001b[0m\n\u001b[1;32m   1997\u001b[0m \u001b[0;34m\u001b[0m\u001b[0m\n\u001b[0;32m-> 1998\u001b[0;31m         \u001b[0mself\u001b[0m\u001b[0;34m.\u001b[0m\u001b[0m_reader\u001b[0m \u001b[0;34m=\u001b[0m \u001b[0mparsers\u001b[0m\u001b[0;34m.\u001b[0m\u001b[0mTextReader\u001b[0m\u001b[0;34m(\u001b[0m\u001b[0msrc\u001b[0m\u001b[0;34m,\u001b[0m \u001b[0;34m**\u001b[0m\u001b[0mkwds\u001b[0m\u001b[0;34m)\u001b[0m\u001b[0;34m\u001b[0m\u001b[0;34m\u001b[0m\u001b[0m\n\u001b[0m\u001b[1;32m   1999\u001b[0m         \u001b[0mself\u001b[0m\u001b[0;34m.\u001b[0m\u001b[0munnamed_cols\u001b[0m \u001b[0;34m=\u001b[0m \u001b[0mself\u001b[0m\u001b[0;34m.\u001b[0m\u001b[0m_reader\u001b[0m\u001b[0;34m.\u001b[0m\u001b[0munnamed_cols\u001b[0m\u001b[0;34m\u001b[0m\u001b[0;34m\u001b[0m\u001b[0m\n\u001b[1;32m   2000\u001b[0m \u001b[0;34m\u001b[0m\u001b[0m\n",
      "\u001b[0;32mpandas/_libs/parsers.pyx\u001b[0m in \u001b[0;36mpandas._libs.parsers.TextReader.__cinit__\u001b[0;34m()\u001b[0m\n",
      "\u001b[0;32mpandas/_libs/parsers.pyx\u001b[0m in \u001b[0;36mpandas._libs.parsers.TextReader._setup_parser_source\u001b[0;34m()\u001b[0m\n",
      "\u001b[0;31mFileNotFoundError\u001b[0m: [Errno 2] No such file or directory: 'base-pop-2015-communes.csv'"
     ]
    }
   ],
   "source": [
    "import pandas as pd\n",
    "tableau = pd.read_csv(\"base-pop-2015-communes.csv\")"
   ]
  },
  {
   "cell_type": "code",
   "execution_count": 3,
   "metadata": {
    "attributes": {
     "classes": [],
     "hidden": "True",
     "id": ""
    },
    "execution": {
     "iopub.execute_input": "2020-12-22T18:44:43.289509Z",
     "iopub.status.busy": "2020-12-22T18:44:43.288896Z",
     "iopub.status.idle": "2020-12-22T18:44:43.383869Z",
     "shell.execute_reply": "2020-12-22T18:44:43.384582Z"
    }
   },
   "outputs": [],
   "source": [
    "import warnings\n",
    "warnings.filterwarnings('ignore')\n",
    "\n",
    "pd.set_option('display.width', 80)\n",
    "pd.set_option('display.max_columns', 6)\n",
    "pd.set_option('precision', 3)\n",
    "pd.set_option('display.float_format', lambda x: '%.3f' % x)\n",
    "\n",
    "import matplotlib as mpl\n",
    "mpl.rcParams['figure.dpi'] = 600\n"
   ]
  },
  {
   "cell_type": "code",
   "execution_count": 4,
   "metadata": {
    "execution": {
     "iopub.execute_input": "2020-12-22T18:44:43.410680Z",
     "iopub.status.busy": "2020-12-22T18:44:43.408898Z",
     "iopub.status.idle": "2020-12-22T18:44:46.778545Z",
     "shell.execute_reply": "2020-12-22T18:44:46.779059Z"
    }
   },
   "outputs": [],
   "source": [
    "import pandas as pd\n",
    "tableau = pd.read_csv(\"./data/base-pop-2015-communes.csv\")"
   ]
  },
  {
   "cell_type": "code",
   "execution_count": 5,
   "metadata": {
    "execution": {
     "iopub.execute_input": "2020-12-22T18:44:46.793437Z",
     "iopub.status.busy": "2020-12-22T18:44:46.783241Z",
     "iopub.status.idle": "2020-12-22T18:44:46.814491Z",
     "shell.execute_reply": "2020-12-22T18:44:46.815028Z"
    }
   },
   "outputs": [
    {
     "data": {
      "text/plain": [
       "(35399, 109)"
      ]
     },
     "execution_count": 5,
     "metadata": {},
     "output_type": "execute_result"
    }
   ],
   "source": [
    "tableau.shape"
   ]
  },
  {
   "cell_type": "code",
   "execution_count": 6,
   "metadata": {
    "execution": {
     "iopub.execute_input": "2020-12-22T18:44:46.845829Z",
     "iopub.status.busy": "2020-12-22T18:44:46.844639Z",
     "iopub.status.idle": "2020-12-22T18:44:46.852775Z",
     "shell.execute_reply": "2020-12-22T18:44:46.854159Z"
    }
   },
   "outputs": [
    {
     "data": {
      "text/plain": [
       "<bound method IndexOpsMixin.value_counts of 0        84\n",
       "1        84\n",
       "2        84\n",
       "3        84\n",
       "4        84\n",
       "         ..\n",
       "35394     4\n",
       "35395     4\n",
       "35396     4\n",
       "35397     4\n",
       "35398     4\n",
       "Name: REG, Length: 35399, dtype: int64>"
      ]
     },
     "execution_count": 6,
     "metadata": {},
     "output_type": "execute_result"
    }
   ],
   "source": [
    "tableau[\"REG\"].value_counts"
   ]
  },
  {
   "cell_type": "code",
   "execution_count": 7,
   "metadata": {
    "execution": {
     "iopub.execute_input": "2020-12-22T18:44:46.874317Z",
     "iopub.status.busy": "2020-12-22T18:44:46.873642Z",
     "iopub.status.idle": "2020-12-22T18:44:46.884437Z",
     "shell.execute_reply": "2020-12-22T18:44:46.889676Z"
    }
   },
   "outputs": [
    {
     "data": {
      "text/plain": [
       "44    5136\n",
       "76    4488\n",
       "75    4413\n",
       "84    4095\n",
       "32    3809\n",
       "27    3739\n",
       "28    2722\n",
       "24    1783\n",
       "52    1281\n",
       "11    1277\n",
       "53    1233\n",
       "93     951\n",
       "94     360\n",
       "2       34\n",
       "1       32\n",
       "4       24\n",
       "3       22\n",
       "Name: REG, dtype: int64"
      ]
     },
     "execution_count": 7,
     "metadata": {},
     "output_type": "execute_result"
    }
   ],
   "source": [
    "tableau[\"REG\"].value_counts()"
   ]
  },
  {
   "cell_type": "code",
   "execution_count": 8,
   "metadata": {
    "execution": {
     "iopub.execute_input": "2020-12-22T18:44:47.043929Z",
     "iopub.status.busy": "2020-12-22T18:44:47.032923Z",
     "iopub.status.idle": "2020-12-22T18:44:47.127974Z",
     "shell.execute_reply": "2020-12-22T18:44:47.133944Z"
    }
   },
   "outputs": [
    {
     "data": {
      "text/plain": [
       "44   14.509\n",
       "76   12.678\n",
       "75   12.466\n",
       "84   11.568\n",
       "32   10.760\n",
       "27   10.562\n",
       "28    7.689\n",
       "24    5.037\n",
       "52    3.619\n",
       "11    3.607\n",
       "53    3.483\n",
       "93    2.687\n",
       "94    1.017\n",
       "2     0.096\n",
       "1     0.090\n",
       "4     0.068\n",
       "3     0.062\n",
       "Name: REG, dtype: float64"
      ]
     },
     "execution_count": 8,
     "metadata": {},
     "output_type": "execute_result"
    }
   ],
   "source": [
    "100*tableau[\"REG\"].value_counts()/len(tableau)"
   ]
  },
  {
   "cell_type": "code",
   "execution_count": 9,
   "metadata": {
    "execution": {
     "iopub.execute_input": "2020-12-22T18:44:47.148779Z",
     "iopub.status.busy": "2020-12-22T18:44:47.145579Z",
     "iopub.status.idle": "2020-12-22T18:44:47.155382Z",
     "shell.execute_reply": "2020-12-22T18:44:47.176447Z"
    }
   },
   "outputs": [
    {
     "data": {
      "text/plain": [
       "10.1"
      ]
     },
     "execution_count": 9,
     "metadata": {},
     "output_type": "execute_result"
    }
   ],
   "source": [
    "round(10.12345,1)"
   ]
  },
  {
   "cell_type": "code",
   "execution_count": 10,
   "metadata": {
    "execution": {
     "iopub.execute_input": "2020-12-22T18:44:47.181907Z",
     "iopub.status.busy": "2020-12-22T18:44:47.180860Z",
     "iopub.status.idle": "2020-12-22T18:44:47.213248Z",
     "shell.execute_reply": "2020-12-22T18:44:47.212805Z"
    }
   },
   "outputs": [
    {
     "data": {
      "text/plain": [
       "44   14.509\n",
       "76   12.678\n",
       "75   12.466\n",
       "84   11.568\n",
       "32   10.760\n",
       "27   10.562\n",
       "28    7.689\n",
       "24    5.037\n",
       "52    3.619\n",
       "11    3.607\n",
       "53    3.483\n",
       "93    2.687\n",
       "94    1.017\n",
       "2     0.096\n",
       "1     0.090\n",
       "4     0.068\n",
       "3     0.062\n",
       "Name: REG, dtype: float64"
      ]
     },
     "execution_count": 10,
     "metadata": {},
     "output_type": "execute_result"
    }
   ],
   "source": [
    "round(100*tableau[\"REG\"].value_counts()/len(tableau),3)"
   ]
  },
  {
   "cell_type": "code",
   "execution_count": 11,
   "metadata": {
    "execution": {
     "iopub.execute_input": "2020-12-22T18:44:47.238210Z",
     "iopub.status.busy": "2020-12-22T18:44:47.232859Z",
     "iopub.status.idle": "2020-12-22T18:44:47.261533Z",
     "shell.execute_reply": "2020-12-22T18:44:47.262386Z"
    }
   },
   "outputs": [],
   "source": [
    "tab_ab = tableau[\"REG\"].value_counts()\n",
    "tab_p = round(100*tab_ab/len(tableau),2)\n",
    "nouveau_tab = pd.DataFrame([tab_ab, tab_p])"
   ]
  },
  {
   "cell_type": "code",
   "execution_count": 12,
   "metadata": {
    "execution": {
     "iopub.execute_input": "2020-12-22T18:44:47.288622Z",
     "iopub.status.busy": "2020-12-22T18:44:47.275381Z",
     "iopub.status.idle": "2020-12-22T18:44:47.317462Z",
     "shell.execute_reply": "2020-12-22T18:44:47.318212Z"
    }
   },
   "outputs": [
    {
     "data": {
      "text/html": [
       "<div>\n",
       "<style scoped>\n",
       "    .dataframe tbody tr th:only-of-type {\n",
       "        vertical-align: middle;\n",
       "    }\n",
       "\n",
       "    .dataframe tbody tr th {\n",
       "        vertical-align: top;\n",
       "    }\n",
       "\n",
       "    .dataframe thead th {\n",
       "        text-align: right;\n",
       "    }\n",
       "</style>\n",
       "<table border=\"1\" class=\"dataframe\">\n",
       "  <thead>\n",
       "    <tr style=\"text-align: right;\">\n",
       "      <th></th>\n",
       "      <th>44</th>\n",
       "      <th>76</th>\n",
       "      <th>75</th>\n",
       "      <th>...</th>\n",
       "      <th>1</th>\n",
       "      <th>4</th>\n",
       "      <th>3</th>\n",
       "    </tr>\n",
       "  </thead>\n",
       "  <tbody>\n",
       "    <tr>\n",
       "      <th>REG</th>\n",
       "      <td>5136.000</td>\n",
       "      <td>4488.000</td>\n",
       "      <td>4413.000</td>\n",
       "      <td>...</td>\n",
       "      <td>32.000</td>\n",
       "      <td>24.000</td>\n",
       "      <td>22.000</td>\n",
       "    </tr>\n",
       "    <tr>\n",
       "      <th>REG</th>\n",
       "      <td>14.510</td>\n",
       "      <td>12.680</td>\n",
       "      <td>12.470</td>\n",
       "      <td>...</td>\n",
       "      <td>0.090</td>\n",
       "      <td>0.070</td>\n",
       "      <td>0.060</td>\n",
       "    </tr>\n",
       "  </tbody>\n",
       "</table>\n",
       "<p>2 rows × 17 columns</p>\n",
       "</div>"
      ],
      "text/plain": [
       "          44       76       75  ...     1      4      3 \n",
       "REG 5136.000 4488.000 4413.000  ... 32.000 24.000 22.000\n",
       "REG   14.510   12.680   12.470  ...  0.090  0.070  0.060\n",
       "\n",
       "[2 rows x 17 columns]"
      ]
     },
     "execution_count": 12,
     "metadata": {},
     "output_type": "execute_result"
    }
   ],
   "source": [
    "nouveau_tab"
   ]
  },
  {
   "cell_type": "code",
   "execution_count": 13,
   "metadata": {
    "execution": {
     "iopub.execute_input": "2020-12-22T18:44:47.341601Z",
     "iopub.status.busy": "2020-12-22T18:44:47.340148Z",
     "iopub.status.idle": "2020-12-22T18:44:47.345024Z",
     "shell.execute_reply": "2020-12-22T18:44:47.346113Z"
    }
   },
   "outputs": [],
   "source": [
    "nouveau_tab = nouveau_tab.T"
   ]
  },
  {
   "cell_type": "code",
   "execution_count": 14,
   "metadata": {
    "execution": {
     "iopub.execute_input": "2020-12-22T18:44:47.351326Z",
     "iopub.status.busy": "2020-12-22T18:44:47.349043Z",
     "iopub.status.idle": "2020-12-22T18:44:47.373288Z",
     "shell.execute_reply": "2020-12-22T18:44:47.373980Z"
    }
   },
   "outputs": [],
   "source": [
    "nouveau_tab.columns = [\"Effectif\",\"Pourcentage\"]"
   ]
  },
  {
   "cell_type": "code",
   "execution_count": 15,
   "metadata": {
    "execution": {
     "iopub.execute_input": "2020-12-22T18:44:47.398808Z",
     "iopub.status.busy": "2020-12-22T18:44:47.397177Z",
     "iopub.status.idle": "2020-12-22T18:44:47.406288Z",
     "shell.execute_reply": "2020-12-22T18:44:47.406759Z"
    }
   },
   "outputs": [
    {
     "data": {
      "text/html": [
       "<div>\n",
       "<style scoped>\n",
       "    .dataframe tbody tr th:only-of-type {\n",
       "        vertical-align: middle;\n",
       "    }\n",
       "\n",
       "    .dataframe tbody tr th {\n",
       "        vertical-align: top;\n",
       "    }\n",
       "\n",
       "    .dataframe thead th {\n",
       "        text-align: right;\n",
       "    }\n",
       "</style>\n",
       "<table border=\"1\" class=\"dataframe\">\n",
       "  <thead>\n",
       "    <tr style=\"text-align: right;\">\n",
       "      <th></th>\n",
       "      <th>Effectif</th>\n",
       "      <th>Pourcentage</th>\n",
       "    </tr>\n",
       "  </thead>\n",
       "  <tbody>\n",
       "    <tr>\n",
       "      <th>44</th>\n",
       "      <td>5136.000</td>\n",
       "      <td>14.510</td>\n",
       "    </tr>\n",
       "    <tr>\n",
       "      <th>76</th>\n",
       "      <td>4488.000</td>\n",
       "      <td>12.680</td>\n",
       "    </tr>\n",
       "    <tr>\n",
       "      <th>75</th>\n",
       "      <td>4413.000</td>\n",
       "      <td>12.470</td>\n",
       "    </tr>\n",
       "    <tr>\n",
       "      <th>84</th>\n",
       "      <td>4095.000</td>\n",
       "      <td>11.570</td>\n",
       "    </tr>\n",
       "    <tr>\n",
       "      <th>32</th>\n",
       "      <td>3809.000</td>\n",
       "      <td>10.760</td>\n",
       "    </tr>\n",
       "    <tr>\n",
       "      <th>27</th>\n",
       "      <td>3739.000</td>\n",
       "      <td>10.560</td>\n",
       "    </tr>\n",
       "    <tr>\n",
       "      <th>28</th>\n",
       "      <td>2722.000</td>\n",
       "      <td>7.690</td>\n",
       "    </tr>\n",
       "    <tr>\n",
       "      <th>24</th>\n",
       "      <td>1783.000</td>\n",
       "      <td>5.040</td>\n",
       "    </tr>\n",
       "    <tr>\n",
       "      <th>52</th>\n",
       "      <td>1281.000</td>\n",
       "      <td>3.620</td>\n",
       "    </tr>\n",
       "    <tr>\n",
       "      <th>11</th>\n",
       "      <td>1277.000</td>\n",
       "      <td>3.610</td>\n",
       "    </tr>\n",
       "    <tr>\n",
       "      <th>53</th>\n",
       "      <td>1233.000</td>\n",
       "      <td>3.480</td>\n",
       "    </tr>\n",
       "    <tr>\n",
       "      <th>93</th>\n",
       "      <td>951.000</td>\n",
       "      <td>2.690</td>\n",
       "    </tr>\n",
       "    <tr>\n",
       "      <th>94</th>\n",
       "      <td>360.000</td>\n",
       "      <td>1.020</td>\n",
       "    </tr>\n",
       "    <tr>\n",
       "      <th>2</th>\n",
       "      <td>34.000</td>\n",
       "      <td>0.100</td>\n",
       "    </tr>\n",
       "    <tr>\n",
       "      <th>1</th>\n",
       "      <td>32.000</td>\n",
       "      <td>0.090</td>\n",
       "    </tr>\n",
       "    <tr>\n",
       "      <th>4</th>\n",
       "      <td>24.000</td>\n",
       "      <td>0.070</td>\n",
       "    </tr>\n",
       "    <tr>\n",
       "      <th>3</th>\n",
       "      <td>22.000</td>\n",
       "      <td>0.060</td>\n",
       "    </tr>\n",
       "  </tbody>\n",
       "</table>\n",
       "</div>"
      ],
      "text/plain": [
       "    Effectif  Pourcentage\n",
       "44  5136.000       14.510\n",
       "76  4488.000       12.680\n",
       "75  4413.000       12.470\n",
       "84  4095.000       11.570\n",
       "32  3809.000       10.760\n",
       "27  3739.000       10.560\n",
       "28  2722.000        7.690\n",
       "24  1783.000        5.040\n",
       "52  1281.000        3.620\n",
       "11  1277.000        3.610\n",
       "53  1233.000        3.480\n",
       "93   951.000        2.690\n",
       "94   360.000        1.020\n",
       "2     34.000        0.100\n",
       "1     32.000        0.090\n",
       "4     24.000        0.070\n",
       "3     22.000        0.060"
      ]
     },
     "execution_count": 15,
     "metadata": {},
     "output_type": "execute_result"
    }
   ],
   "source": [
    "nouveau_tab"
   ]
  },
  {
   "cell_type": "code",
   "execution_count": 16,
   "metadata": {
    "execution": {
     "iopub.execute_input": "2020-12-22T18:44:47.420499Z",
     "iopub.status.busy": "2020-12-22T18:44:47.417795Z",
     "iopub.status.idle": "2020-12-22T18:44:47.474214Z",
     "shell.execute_reply": "2020-12-22T18:44:47.475011Z"
    }
   },
   "outputs": [
    {
     "data": {
      "text/html": [
       "<div>\n",
       "<style scoped>\n",
       "    .dataframe tbody tr th:only-of-type {\n",
       "        vertical-align: middle;\n",
       "    }\n",
       "\n",
       "    .dataframe tbody tr th {\n",
       "        vertical-align: top;\n",
       "    }\n",
       "\n",
       "    .dataframe thead th {\n",
       "        text-align: right;\n",
       "    }\n",
       "</style>\n",
       "<table border=\"1\" class=\"dataframe\">\n",
       "  <thead>\n",
       "    <tr style=\"text-align: right;\">\n",
       "      <th></th>\n",
       "      <th>Effectif</th>\n",
       "      <th>Pourcentage</th>\n",
       "    </tr>\n",
       "  </thead>\n",
       "  <tbody>\n",
       "    <tr>\n",
       "      <th>44</th>\n",
       "      <td>5136.000</td>\n",
       "      <td>14.510</td>\n",
       "    </tr>\n",
       "    <tr>\n",
       "      <th>76</th>\n",
       "      <td>4488.000</td>\n",
       "      <td>12.680</td>\n",
       "    </tr>\n",
       "    <tr>\n",
       "      <th>75</th>\n",
       "      <td>4413.000</td>\n",
       "      <td>12.470</td>\n",
       "    </tr>\n",
       "    <tr>\n",
       "      <th>84</th>\n",
       "      <td>4095.000</td>\n",
       "      <td>11.570</td>\n",
       "    </tr>\n",
       "    <tr>\n",
       "      <th>32</th>\n",
       "      <td>3809.000</td>\n",
       "      <td>10.760</td>\n",
       "    </tr>\n",
       "    <tr>\n",
       "      <th>27</th>\n",
       "      <td>3739.000</td>\n",
       "      <td>10.560</td>\n",
       "    </tr>\n",
       "    <tr>\n",
       "      <th>28</th>\n",
       "      <td>2722.000</td>\n",
       "      <td>7.690</td>\n",
       "    </tr>\n",
       "    <tr>\n",
       "      <th>24</th>\n",
       "      <td>1783.000</td>\n",
       "      <td>5.040</td>\n",
       "    </tr>\n",
       "    <tr>\n",
       "      <th>52</th>\n",
       "      <td>1281.000</td>\n",
       "      <td>3.620</td>\n",
       "    </tr>\n",
       "    <tr>\n",
       "      <th>11</th>\n",
       "      <td>1277.000</td>\n",
       "      <td>3.610</td>\n",
       "    </tr>\n",
       "    <tr>\n",
       "      <th>53</th>\n",
       "      <td>1233.000</td>\n",
       "      <td>3.480</td>\n",
       "    </tr>\n",
       "    <tr>\n",
       "      <th>93</th>\n",
       "      <td>951.000</td>\n",
       "      <td>2.690</td>\n",
       "    </tr>\n",
       "    <tr>\n",
       "      <th>94</th>\n",
       "      <td>360.000</td>\n",
       "      <td>1.020</td>\n",
       "    </tr>\n",
       "    <tr>\n",
       "      <th>2</th>\n",
       "      <td>34.000</td>\n",
       "      <td>0.100</td>\n",
       "    </tr>\n",
       "    <tr>\n",
       "      <th>1</th>\n",
       "      <td>32.000</td>\n",
       "      <td>0.090</td>\n",
       "    </tr>\n",
       "    <tr>\n",
       "      <th>4</th>\n",
       "      <td>24.000</td>\n",
       "      <td>0.070</td>\n",
       "    </tr>\n",
       "    <tr>\n",
       "      <th>3</th>\n",
       "      <td>22.000</td>\n",
       "      <td>0.060</td>\n",
       "    </tr>\n",
       "    <tr>\n",
       "      <th>Total</th>\n",
       "      <td>35399.000</td>\n",
       "      <td>100.000</td>\n",
       "    </tr>\n",
       "  </tbody>\n",
       "</table>\n",
       "</div>"
      ],
      "text/plain": [
       "       Effectif  Pourcentage\n",
       "44     5136.000       14.510\n",
       "76     4488.000       12.680\n",
       "75     4413.000       12.470\n",
       "84     4095.000       11.570\n",
       "32     3809.000       10.760\n",
       "27     3739.000       10.560\n",
       "28     2722.000        7.690\n",
       "24     1783.000        5.040\n",
       "52     1281.000        3.620\n",
       "11     1277.000        3.610\n",
       "53     1233.000        3.480\n",
       "93      951.000        2.690\n",
       "94      360.000        1.020\n",
       "2        34.000        0.100\n",
       "1        32.000        0.090\n",
       "4        24.000        0.070\n",
       "3        22.000        0.060\n",
       "Total 35399.000      100.000"
      ]
     },
     "execution_count": 16,
     "metadata": {},
     "output_type": "execute_result"
    }
   ],
   "source": [
    "nouveau_tab.loc[\"Total\"] = [len(tableau),100]\n",
    "nouveau_tab"
   ]
  },
  {
   "cell_type": "code",
   "execution_count": 17,
   "metadata": {
    "execution": {
     "iopub.execute_input": "2020-12-22T18:44:47.479904Z",
     "iopub.status.busy": "2020-12-22T18:44:47.477828Z",
     "iopub.status.idle": "2020-12-22T18:44:47.510053Z",
     "shell.execute_reply": "2020-12-22T18:44:47.510477Z"
    }
   },
   "outputs": [],
   "source": [
    "tab_ab = tableau[\"REG\"].value_counts()\n",
    "tab_p = round(100*tableau[\"REG\"].value_counts()/len(tableau),2)\n",
    "nouveau_tab = pd.DataFrame(tab_ab)\n",
    "nouveau_tab[\"Pourcentages\"] = tab_p"
   ]
  },
  {
   "cell_type": "code",
   "execution_count": 18,
   "metadata": {
    "execution": {
     "iopub.execute_input": "2020-12-22T18:44:47.516477Z",
     "iopub.status.busy": "2020-12-22T18:44:47.515818Z",
     "iopub.status.idle": "2020-12-22T18:44:47.518462Z",
     "shell.execute_reply": "2020-12-22T18:44:47.520314Z"
    }
   },
   "outputs": [],
   "source": [
    "def triaplat(colonne):\n",
    "    tab_ab = colonne.value_counts()\n",
    "    tab_p = round(100*colonne.value_counts()/len(colonne),2)\n",
    "    nouveau_tab = pd.DataFrame([tab_ab, tab_p])\n",
    "    nouveau_tab = nouveau_tab.T\n",
    "    nouveau_tab.columns = [\"Effectif\",\"Pourcentage\"]\n",
    "    nouveau_tab.loc[\"Total\"] = [len(colonne),100]\n",
    "    return nouveau_tab"
   ]
  },
  {
   "cell_type": "code",
   "execution_count": 19,
   "metadata": {
    "execution": {
     "iopub.execute_input": "2020-12-22T18:44:47.526833Z",
     "iopub.status.busy": "2020-12-22T18:44:47.525677Z",
     "iopub.status.idle": "2020-12-22T18:44:47.617516Z",
     "shell.execute_reply": "2020-12-22T18:44:47.616973Z"
    }
   },
   "outputs": [
    {
     "data": {
      "text/html": [
       "<div>\n",
       "<style scoped>\n",
       "    .dataframe tbody tr th:only-of-type {\n",
       "        vertical-align: middle;\n",
       "    }\n",
       "\n",
       "    .dataframe tbody tr th {\n",
       "        vertical-align: top;\n",
       "    }\n",
       "\n",
       "    .dataframe thead th {\n",
       "        text-align: right;\n",
       "    }\n",
       "</style>\n",
       "<table border=\"1\" class=\"dataframe\">\n",
       "  <thead>\n",
       "    <tr style=\"text-align: right;\">\n",
       "      <th></th>\n",
       "      <th>Effectif</th>\n",
       "      <th>Pourcentage</th>\n",
       "    </tr>\n",
       "  </thead>\n",
       "  <tbody>\n",
       "    <tr>\n",
       "      <th>62</th>\n",
       "      <td>891.000</td>\n",
       "      <td>2.520</td>\n",
       "    </tr>\n",
       "    <tr>\n",
       "      <th>2</th>\n",
       "      <td>804.000</td>\n",
       "      <td>2.270</td>\n",
       "    </tr>\n",
       "    <tr>\n",
       "      <th>80</th>\n",
       "      <td>779.000</td>\n",
       "      <td>2.200</td>\n",
       "    </tr>\n",
       "    <tr>\n",
       "      <th>57</th>\n",
       "      <td>727.000</td>\n",
       "      <td>2.050</td>\n",
       "    </tr>\n",
       "    <tr>\n",
       "      <th>76</th>\n",
       "      <td>711.000</td>\n",
       "      <td>2.010</td>\n",
       "    </tr>\n",
       "  </tbody>\n",
       "</table>\n",
       "</div>"
      ],
      "text/plain": [
       "    Effectif  Pourcentage\n",
       "62   891.000        2.520\n",
       "2    804.000        2.270\n",
       "80   779.000        2.200\n",
       "57   727.000        2.050\n",
       "76   711.000        2.010"
      ]
     },
     "execution_count": 19,
     "metadata": {},
     "output_type": "execute_result"
    }
   ],
   "source": [
    "departements = triaplat(tableau[\"DEP\"])\n",
    "departements[0:5]"
   ]
  },
  {
   "cell_type": "code",
   "execution_count": 20,
   "metadata": {
    "execution": {
     "iopub.execute_input": "2020-12-22T18:44:47.649068Z",
     "iopub.status.busy": "2020-12-22T18:44:47.645364Z",
     "iopub.status.idle": "2020-12-22T18:44:47.656367Z",
     "shell.execute_reply": "2020-12-22T18:44:47.652865Z"
    }
   },
   "outputs": [],
   "source": [
    "def triaplat(colonne):\n",
    "    \"\"\"\n",
    "    Tri à plat d'une colonne Pandas. \n",
    "    - Prends une colonne (`Series`) Pandas\n",
    "    - Réalise un tri à plat. \n",
    "    -> Renvoie un tableau DF (Effectif et Pourcentage)\n",
    "    \"\"\"\n",
    "    tab_ab = colonne.value_counts()\n",
    "    tab_p = round(100*colonne.value_counts()/len(colonne),2)\n",
    "    nouveau_tab = pd.DataFrame([tab_ab,tab_p])\n",
    "    nouveau_tab = nouveau_tab.T\n",
    "    nouveau_tab.columns = [\"Effectif\",\"Pourcentage\"]\n",
    "    nouveau_tab.loc[\"Total\"] = [len(colonne),100]\n",
    "    return nouveau_tab"
   ]
  }
 ],
 "metadata": {
  "language_info": {
   "codemirror_mode": {
    "name": "ipython",
    "version": 3
   },
   "file_extension": ".py",
   "mimetype": "text/x-python",
   "name": "python",
   "nbconvert_exporter": "python",
   "pygments_lexer": "ipython3",
   "version": "3.8.3"
  }
 },
 "nbformat": 4,
 "nbformat_minor": 4
}
