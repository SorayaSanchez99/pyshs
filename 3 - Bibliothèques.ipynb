{
 "cells": [
  {
   "cell_type": "markdown",
   "metadata": {},
   "source": [
    "# Chapitre 3 : Bibliothèques"
   ]
  },
  {
   "cell_type": "code",
   "execution_count": 1,
   "metadata": {
    "execution": {
     "iopub.execute_input": "2020-12-22T18:29:08.520944Z",
     "iopub.status.busy": "2020-12-22T18:29:08.519760Z",
     "iopub.status.idle": "2020-12-22T18:29:08.546624Z",
     "shell.execute_reply": "2020-12-22T18:29:08.548178Z"
    }
   },
   "outputs": [
    {
     "data": {
      "text/plain": [
       "10"
      ]
     },
     "execution_count": 1,
     "metadata": {},
     "output_type": "execute_result"
    }
   ],
   "source": [
    "import math\n",
    "math.floor(10.53)"
   ]
  },
  {
   "cell_type": "code",
   "execution_count": 2,
   "metadata": {
    "execution": {
     "iopub.execute_input": "2020-12-22T18:29:08.563804Z",
     "iopub.status.busy": "2020-12-22T18:29:08.561915Z",
     "iopub.status.idle": "2020-12-22T18:29:08.630413Z",
     "shell.execute_reply": "2020-12-22T18:29:08.627557Z"
    }
   },
   "outputs": [
    {
     "data": {
      "text/plain": [
       "10"
      ]
     },
     "execution_count": 2,
     "metadata": {},
     "output_type": "execute_result"
    }
   ],
   "source": [
    "import math as m\n",
    "m.floor(10.53)"
   ]
  },
  {
   "cell_type": "code",
   "execution_count": 3,
   "metadata": {
    "execution": {
     "iopub.execute_input": "2020-12-22T18:29:08.643521Z",
     "iopub.status.busy": "2020-12-22T18:29:08.642282Z",
     "iopub.status.idle": "2020-12-22T18:29:08.662784Z",
     "shell.execute_reply": "2020-12-22T18:29:08.655772Z"
    }
   },
   "outputs": [
    {
     "data": {
      "text/plain": [
       "10"
      ]
     },
     "execution_count": 3,
     "metadata": {},
     "output_type": "execute_result"
    }
   ],
   "source": [
    "from math import floor\n",
    "floor(10.53)"
   ]
  },
  {
   "cell_type": "code",
   "execution_count": 4,
   "metadata": {
    "execution": {
     "iopub.execute_input": "2020-12-22T18:29:08.679751Z",
     "iopub.status.busy": "2020-12-22T18:29:08.678787Z",
     "iopub.status.idle": "2020-12-22T18:29:08.906493Z",
     "shell.execute_reply": "2020-12-22T18:29:08.907733Z"
    }
   },
   "outputs": [],
   "source": [
    "import requests as req"
   ]
  },
  {
   "cell_type": "code",
   "execution_count": 5,
   "metadata": {
    "execution": {
     "iopub.execute_input": "2020-12-22T18:29:08.918592Z",
     "iopub.status.busy": "2020-12-22T18:29:08.917442Z",
     "iopub.status.idle": "2020-12-22T18:29:09.619688Z",
     "shell.execute_reply": "2020-12-22T18:29:09.619105Z"
    }
   },
   "outputs": [
    {
     "data": {
      "text/plain": [
       "<Response [200]>"
      ]
     },
     "execution_count": 5,
     "metadata": {},
     "output_type": "execute_result"
    }
   ],
   "source": [
    "req.get(\"http://lemonde.fr\")"
   ]
  },
  {
   "cell_type": "code",
   "execution_count": 6,
   "metadata": {
    "execution": {
     "iopub.execute_input": "2020-12-22T18:29:09.635023Z",
     "iopub.status.busy": "2020-12-22T18:29:09.634118Z",
     "iopub.status.idle": "2020-12-22T18:29:10.217426Z",
     "shell.execute_reply": "2020-12-22T18:29:10.216125Z"
    }
   },
   "outputs": [
    {
     "name": "stdout",
     "output_type": "stream",
     "text": [
      "8ee7f2c776edee5c28e4423c0e06ed8844046b/css/icons.css\"></noscript>   <link rel=\"preload\" href=\"/bucket/bb8ee7f2c776edee5c28e4423c0e06ed8844046b/css/fonts_last.css\" as=\"style\" onload=\"this.onload=null;this.rel='stylesheet'\"> <noscript><link rel=\"stylesheet\" href=\"/bucket/bb8ee7f2c776edee5c28e4423c0e06ed8844046b/css/fonts_last.css\"></noscript>   <script>!function(t){\"use strict\";t.loadCSS||(t.loadCSS=function(){});var e=loadCSS.relpreload={};if(e.support=function(){var e;try{e=t.document.createElem\n"
     ]
    }
   ],
   "source": [
    "reponse = req.get(\"http://lemonde.fr\")\n",
    "contenu = reponse.text\n",
    "print(contenu[1000:1500])"
   ]
  },
  {
   "cell_type": "markdown",
   "metadata": {},
   "source": [
    "### Récupérer du contenu avec requests"
   ]
  },
  {
   "cell_type": "code",
   "execution_count": 7,
   "metadata": {
    "execution": {
     "iopub.execute_input": "2020-12-22T18:29:10.224637Z",
     "iopub.status.busy": "2020-12-22T18:29:10.223031Z",
     "iopub.status.idle": "2020-12-22T18:29:10.759098Z",
     "shell.execute_reply": "2020-12-22T18:29:10.760015Z"
    }
   },
   "outputs": [
    {
     "name": "stdout",
     "output_type": "stream",
     "text": [
      "Le mot est présent\n"
     ]
    }
   ],
   "source": [
    "import requests as req\n",
    "\n",
    "# Récupérer la page\n",
    "url = \"http://lemonde.fr\"\n",
    "reponse = req.get(url)\n",
    "contenu = reponse.text\n",
    "\n",
    "# Tester la présence du mot\n",
    "if \"science\" in contenu:\n",
    "    print(\"Le mot est présent\")\n",
    "else:\n",
    "    print(\"Le mot n'est pas présent\")"
   ]
  }
 ],
 "metadata": {
  "kernelspec": {
   "display_name": "Python 3",
   "language": "python",
   "name": "python3"
  },
  "language_info": {
   "codemirror_mode": {
    "name": "ipython",
    "version": 3
   },
   "file_extension": ".py",
   "mimetype": "text/x-python",
   "name": "python",
   "nbconvert_exporter": "python",
   "pygments_lexer": "ipython3",
   "version": "3.7.7"
  }
 },
 "nbformat": 4,
 "nbformat_minor": 4
}
