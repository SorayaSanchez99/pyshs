{
 "cells": [
  {
   "cell_type": "code",
   "execution_count": 1,
   "metadata": {
    "attributes": {
     "classes": [],
     "hidden": "True",
     "id": ""
    },
    "execution": {
     "iopub.execute_input": "2020-12-22T18:31:19.024647Z",
     "iopub.status.busy": "2020-12-22T18:31:19.022249Z",
     "iopub.status.idle": "2020-12-22T18:31:24.394484Z",
     "shell.execute_reply": "2020-12-22T18:31:24.392255Z"
    }
   },
   "outputs": [],
   "source": [
    "import warnings\n",
    "warnings.filterwarnings('ignore')\n",
    "import matplotlib as mpl\n",
    "mpl.rcParams['figure.dpi'] = 600\n",
    "import pandas as pd\n",
    "pd.set_option('display.width', 80)\n",
    "pd.set_option('display.max_columns', 6)\n",
    "pd.set_option('precision', 1)\n",
    "pd.set_option('display.float_format', lambda x: '%.2f' % x)"
   ]
  },
  {
   "cell_type": "code",
   "execution_count": 2,
   "metadata": {
    "execution": {
     "iopub.execute_input": "2020-12-22T18:31:24.428454Z",
     "iopub.status.busy": "2020-12-22T18:31:24.410218Z",
     "iopub.status.idle": "2020-12-22T18:31:39.335963Z",
     "shell.execute_reply": "2020-12-22T18:31:39.338209Z"
    }
   },
   "outputs": [
    {
     "name": "stdout",
     "output_type": "stream",
     "text": [
      "(35399, 109)\n"
     ]
    }
   ],
   "source": [
    "import pandas as pd\n",
    "%matplotlib inline\n",
    "\n",
    "tableau = pd.read_csv(\"./data/base-pop-2015-communes.csv\")\n",
    "print(tableau.shape)"
   ]
  },
  {
   "cell_type": "code",
   "execution_count": 3,
   "metadata": {
    "execution": {
     "iopub.execute_input": "2020-12-22T18:31:39.351147Z",
     "iopub.status.busy": "2020-12-22T18:31:39.350083Z",
     "iopub.status.idle": "2020-12-22T18:31:39.864135Z",
     "shell.execute_reply": "2020-12-22T18:31:39.876062Z"
    }
   },
   "outputs": [
    {
     "name": "stdout",
     "output_type": "stream",
     "text": [
      "Toutes les données :  (35399, 109)\n",
      "Sans les valeurs manquantes :  (35399, 109)\n"
     ]
    }
   ],
   "source": [
    "print(\"Toutes les données : \",tableau.shape)\n",
    "print(\"Sans les valeurs manquantes : \",tableau.dropna().shape)"
   ]
  },
  {
   "cell_type": "code",
   "execution_count": 4,
   "metadata": {
    "execution": {
     "iopub.execute_input": "2020-12-22T18:31:39.924640Z",
     "iopub.status.busy": "2020-12-22T18:31:39.911252Z",
     "iopub.status.idle": "2020-12-22T18:31:40.350479Z",
     "shell.execute_reply": "2020-12-22T18:31:40.378085Z"
    }
   },
   "outputs": [
    {
     "data": {
      "text/html": [
       "<div>\n",
       "<style scoped>\n",
       "    .dataframe tbody tr th:only-of-type {\n",
       "        vertical-align: middle;\n",
       "    }\n",
       "\n",
       "    .dataframe tbody tr th {\n",
       "        vertical-align: top;\n",
       "    }\n",
       "\n",
       "    .dataframe thead th {\n",
       "        text-align: right;\n",
       "    }\n",
       "</style>\n",
       "<table border=\"1\" class=\"dataframe\">\n",
       "  <thead>\n",
       "    <tr style=\"text-align: right;\">\n",
       "      <th></th>\n",
       "      <th>CODGEO</th>\n",
       "      <th>REG</th>\n",
       "      <th>DEP</th>\n",
       "      <th>...</th>\n",
       "      <th>P15_POP7589</th>\n",
       "      <th>P15_POP90P</th>\n",
       "      <th>C15_POP15P_CS6</th>\n",
       "    </tr>\n",
       "  </thead>\n",
       "  <tbody>\n",
       "    <tr>\n",
       "      <th>0</th>\n",
       "      <td>1001</td>\n",
       "      <td>84</td>\n",
       "      <td>1</td>\n",
       "      <td>...</td>\n",
       "      <td>53.00</td>\n",
       "      <td>5.00</td>\n",
       "      <td>125.00</td>\n",
       "    </tr>\n",
       "    <tr>\n",
       "      <th>1</th>\n",
       "      <td>1002</td>\n",
       "      <td>84</td>\n",
       "      <td>1</td>\n",
       "      <td>...</td>\n",
       "      <td>16.86</td>\n",
       "      <td>1.98</td>\n",
       "      <td>9.92</td>\n",
       "    </tr>\n",
       "    <tr>\n",
       "      <th>2</th>\n",
       "      <td>1004</td>\n",
       "      <td>84</td>\n",
       "      <td>1</td>\n",
       "      <td>...</td>\n",
       "      <td>1059.01</td>\n",
       "      <td>149.63</td>\n",
       "      <td>1800.54</td>\n",
       "    </tr>\n",
       "    <tr>\n",
       "      <th>3</th>\n",
       "      <td>1005</td>\n",
       "      <td>84</td>\n",
       "      <td>1</td>\n",
       "      <td>...</td>\n",
       "      <td>99.00</td>\n",
       "      <td>10.00</td>\n",
       "      <td>230.00</td>\n",
       "    </tr>\n",
       "    <tr>\n",
       "      <th>4</th>\n",
       "      <td>1006</td>\n",
       "      <td>84</td>\n",
       "      <td>1</td>\n",
       "      <td>...</td>\n",
       "      <td>9.91</td>\n",
       "      <td>0.99</td>\n",
       "      <td>14.86</td>\n",
       "    </tr>\n",
       "  </tbody>\n",
       "</table>\n",
       "<p>5 rows × 9 columns</p>\n",
       "</div>"
      ],
      "text/plain": [
       "  CODGEO  REG DEP  ... P15_POP7589  P15_POP90P  C15_POP15P_CS6\n",
       "0   1001   84   1  ...       53.00        5.00          125.00\n",
       "1   1002   84   1  ...       16.86        1.98            9.92\n",
       "2   1004   84   1  ...     1059.01      149.63         1800.54\n",
       "3   1005   84   1  ...       99.00       10.00          230.00\n",
       "4   1006   84   1  ...        9.91        0.99           14.86\n",
       "\n",
       "[5 rows x 9 columns]"
      ]
     },
     "execution_count": 4,
     "metadata": {},
     "output_type": "execute_result"
    }
   ],
   "source": [
    "colonnes = [ \"CODGEO\", \"REG\",\"DEP\", \"LIBGEO\", \"P15_POP\",\n",
    "    \"P15_POPF\",\"P15_POP7589\",\"P15_POP90P\",\"C15_POP15P_CS6\"]\n",
    "donnees = tableau[colonnes]\n",
    "donnees[0:5]"
   ]
  },
  {
   "cell_type": "code",
   "execution_count": 5,
   "metadata": {
    "execution": {
     "iopub.execute_input": "2020-12-22T18:31:40.473159Z",
     "iopub.status.busy": "2020-12-22T18:31:40.471176Z",
     "iopub.status.idle": "2020-12-22T18:31:40.547998Z",
     "shell.execute_reply": "2020-12-22T18:31:40.609219Z"
    }
   },
   "outputs": [
    {
     "data": {
      "text/plain": [
       "numpy.float64"
      ]
     },
     "execution_count": 5,
     "metadata": {},
     "output_type": "execute_result"
    }
   ],
   "source": [
    "type(donnees.loc[10,\"P15_POP\"])"
   ]
  },
  {
   "cell_type": "code",
   "execution_count": 6,
   "metadata": {
    "execution": {
     "iopub.execute_input": "2020-12-22T18:31:40.729870Z",
     "iopub.status.busy": "2020-12-22T18:31:40.704306Z",
     "iopub.status.idle": "2020-12-22T18:31:40.749605Z",
     "shell.execute_reply": "2020-12-22T18:31:40.748112Z"
    }
   },
   "outputs": [],
   "source": [
    "def calcul_prop_f(ligne):\n",
    "    if (ligne[\"P15_POP\"] == None) or (ligne[\"P15_POP\"] == 0):\n",
    "        return None\n",
    "    proportion = 100*ligne[\"P15_POPF\"]/ligne[\"P15_POP\"]\n",
    "    return round(proportion,1)"
   ]
  },
  {
   "cell_type": "code",
   "execution_count": 7,
   "metadata": {
    "execution": {
     "iopub.execute_input": "2020-12-22T18:31:40.838173Z",
     "iopub.status.busy": "2020-12-22T18:31:40.776416Z",
     "iopub.status.idle": "2020-12-22T18:31:54.649345Z",
     "shell.execute_reply": "2020-12-22T18:31:54.650286Z"
    }
   },
   "outputs": [
    {
     "data": {
      "text/html": [
       "<div>\n",
       "<style scoped>\n",
       "    .dataframe tbody tr th:only-of-type {\n",
       "        vertical-align: middle;\n",
       "    }\n",
       "\n",
       "    .dataframe tbody tr th {\n",
       "        vertical-align: top;\n",
       "    }\n",
       "\n",
       "    .dataframe thead th {\n",
       "        text-align: right;\n",
       "    }\n",
       "</style>\n",
       "<table border=\"1\" class=\"dataframe\">\n",
       "  <thead>\n",
       "    <tr style=\"text-align: right;\">\n",
       "      <th></th>\n",
       "      <th>CODGEO</th>\n",
       "      <th>REG</th>\n",
       "      <th>DEP</th>\n",
       "      <th>...</th>\n",
       "      <th>P15_POP90P</th>\n",
       "      <th>C15_POP15P_CS6</th>\n",
       "      <th>prop_f</th>\n",
       "    </tr>\n",
       "  </thead>\n",
       "  <tbody>\n",
       "    <tr>\n",
       "      <th>0</th>\n",
       "      <td>1001</td>\n",
       "      <td>84</td>\n",
       "      <td>1</td>\n",
       "      <td>...</td>\n",
       "      <td>5.00</td>\n",
       "      <td>125.00</td>\n",
       "      <td>48.90</td>\n",
       "    </tr>\n",
       "    <tr>\n",
       "      <th>1</th>\n",
       "      <td>1002</td>\n",
       "      <td>84</td>\n",
       "      <td>1</td>\n",
       "      <td>...</td>\n",
       "      <td>1.98</td>\n",
       "      <td>9.92</td>\n",
       "      <td>49.40</td>\n",
       "    </tr>\n",
       "    <tr>\n",
       "      <th>2</th>\n",
       "      <td>1004</td>\n",
       "      <td>84</td>\n",
       "      <td>1</td>\n",
       "      <td>...</td>\n",
       "      <td>149.63</td>\n",
       "      <td>1800.54</td>\n",
       "      <td>51.70</td>\n",
       "    </tr>\n",
       "    <tr>\n",
       "      <th>3</th>\n",
       "      <td>1005</td>\n",
       "      <td>84</td>\n",
       "      <td>1</td>\n",
       "      <td>...</td>\n",
       "      <td>10.00</td>\n",
       "      <td>230.00</td>\n",
       "      <td>49.60</td>\n",
       "    </tr>\n",
       "    <tr>\n",
       "      <th>4</th>\n",
       "      <td>1006</td>\n",
       "      <td>84</td>\n",
       "      <td>1</td>\n",
       "      <td>...</td>\n",
       "      <td>0.99</td>\n",
       "      <td>14.86</td>\n",
       "      <td>43.60</td>\n",
       "    </tr>\n",
       "  </tbody>\n",
       "</table>\n",
       "<p>5 rows × 10 columns</p>\n",
       "</div>"
      ],
      "text/plain": [
       "  CODGEO  REG DEP  ... P15_POP90P  C15_POP15P_CS6  prop_f\n",
       "0   1001   84   1  ...       5.00          125.00   48.90\n",
       "1   1002   84   1  ...       1.98            9.92   49.40\n",
       "2   1004   84   1  ...     149.63         1800.54   51.70\n",
       "3   1005   84   1  ...      10.00          230.00   49.60\n",
       "4   1006   84   1  ...       0.99           14.86   43.60\n",
       "\n",
       "[5 rows x 10 columns]"
      ]
     },
     "execution_count": 7,
     "metadata": {},
     "output_type": "execute_result"
    }
   ],
   "source": [
    "donnees[\"prop_f\"] = donnees.apply(calcul_prop_f, axis=1)\n",
    "donnees.head()"
   ]
  },
  {
   "cell_type": "code",
   "execution_count": 8,
   "metadata": {
    "attributes": {
     "classes": [],
     "hidden": "True",
     "id": ""
    },
    "execution": {
     "iopub.execute_input": "2020-12-22T18:31:54.665572Z",
     "iopub.status.busy": "2020-12-22T18:31:54.664284Z",
     "iopub.status.idle": "2020-12-22T18:32:06.144184Z",
     "shell.execute_reply": "2020-12-22T18:32:06.146908Z"
    }
   },
   "outputs": [],
   "source": [
    "# deactivate history to not crash when poking at prompt number.\n",
    "ip = get_ipython()\n",
    "ip.history_manager.enabled = False\n",
    "\n",
    "def calcul_prop_ouvriers(ligne):\n",
    "    if (ligne[\"P15_POP\"] == None) or (ligne[\"P15_POP\"] == 0):\n",
    "        return None\n",
    "    return round(100*ligne[\"C15_POP15P_CS6\"]/ligne[\"P15_POP\"],1)\n",
    "    \n",
    "donnees[\"prop_ouvriers\"] = donnees.apply(calcul_prop_ouvriers,axis=1)\n",
    "def calcul_prop_sup75(ligne):\n",
    "    if (ligne[\"P15_POP\"] == None) or (ligne[\"P15_POP\"] == 0):\n",
    "        return None\n",
    "    plus_75ans = ligne[\"P15_POP7589\"]+ligne[\"P15_POP90P\"]\n",
    "    return round(100*plus_75ans/ligne[\"P15_POP\"],1)\n",
    "\n",
    "donnees[\"prop_sup75\"] = donnees.apply(calcul_prop_sup75,axis=1)"
   ]
  },
  {
   "cell_type": "code",
   "execution_count": 9,
   "metadata": {
    "execution": {
     "iopub.execute_input": "2020-12-22T18:32:06.164641Z",
     "iopub.status.busy": "2020-12-22T18:32:06.163364Z",
     "iopub.status.idle": "2020-12-22T18:32:06.184801Z",
     "shell.execute_reply": "2020-12-22T18:32:06.186573Z"
    }
   },
   "outputs": [
    {
     "name": "stdout",
     "output_type": "stream",
     "text": [
      "51.6\n"
     ]
    }
   ],
   "source": [
    "total_pop = donnees[\"P15_POP\"].sum()\n",
    "total_f = donnees[\"P15_POPF\"].sum()\n",
    "prop_f_nat = 100*total_f/total_pop\n",
    "print(round(prop_f_nat,2))"
   ]
  },
  {
   "cell_type": "code",
   "execution_count": 10,
   "metadata": {
    "execution": {
     "iopub.execute_input": "2020-12-22T18:32:06.201088Z",
     "iopub.status.busy": "2020-12-22T18:32:06.193472Z",
     "iopub.status.idle": "2020-12-22T18:32:06.393109Z",
     "shell.execute_reply": "2020-12-22T18:32:06.394274Z"
    }
   },
   "outputs": [],
   "source": [
    "def reco_prop_f(proportion):\n",
    "    if proportion > prop_f_nat+1:\n",
    "        return \"Supérieur\"\n",
    "    if proportion < prop_f_nat-1:\n",
    "        return \"Inférieur\"\n",
    "    return \"Similaire\"\n",
    "\n",
    "donnees[\"prop_cat\"] = donnees[\"prop_f\"].apply(reco_prop_f)"
   ]
  },
  {
   "cell_type": "code",
   "execution_count": 11,
   "metadata": {
    "execution": {
     "iopub.execute_input": "2020-12-22T18:32:06.402697Z",
     "iopub.status.busy": "2020-12-22T18:32:06.401587Z",
     "iopub.status.idle": "2020-12-22T18:32:06.602208Z",
     "shell.execute_reply": "2020-12-22T18:32:06.603244Z"
    }
   },
   "outputs": [
    {
     "data": {
      "text/plain": [
       "0          (0, 1000]\n",
       "1          (0, 1000]\n",
       "2    (10000, 100000]\n",
       "3      (1000, 10000]\n",
       "4          (0, 1000]\n",
       "Name: P15_POP_C, dtype: category\n",
       "Categories (4, interval[int64]): [(0, 1000] < (1000, 10000] < (10000, 100000] < (100000, 10000000]]"
      ]
     },
     "execution_count": 11,
     "metadata": {},
     "output_type": "execute_result"
    }
   ],
   "source": [
    "\n",
    "q = [0,1000,10000,100000,10000000]\n",
    "donnees[\"P15_POP_C\"] = pd.cut(donnees[\"P15_POP\"], q)\n",
    "donnees[\"P15_POP_C\"].head()"
   ]
  },
  {
   "cell_type": "code",
   "execution_count": 12,
   "metadata": {
    "execution": {
     "iopub.execute_input": "2020-12-22T18:32:06.632854Z",
     "iopub.status.busy": "2020-12-22T18:32:06.631264Z",
     "iopub.status.idle": "2020-12-22T18:32:06.657440Z",
     "shell.execute_reply": "2020-12-22T18:32:06.661605Z"
    }
   },
   "outputs": [
    {
     "data": {
      "text/plain": [
       "Inférieur    20517\n",
       "Similaire    10508\n",
       "Supérieur     4374\n",
       "Name: prop_cat, dtype: int64"
      ]
     },
     "execution_count": 12,
     "metadata": {},
     "output_type": "execute_result"
    }
   ],
   "source": [
    "donnees[\"prop_cat\"].value_counts()"
   ]
  },
  {
   "cell_type": "code",
   "execution_count": 13,
   "metadata": {
    "execution": {
     "iopub.execute_input": "2020-12-22T18:32:06.692216Z",
     "iopub.status.busy": "2020-12-22T18:32:06.670704Z",
     "iopub.status.idle": "2020-12-22T18:32:06.837355Z",
     "shell.execute_reply": "2020-12-22T18:32:06.836140Z"
    }
   },
   "outputs": [
    {
     "data": {
      "text/plain": [
       "Inférieur   0.58\n",
       "Similaire   0.30\n",
       "Supérieur   0.12\n",
       "Name: prop_cat, dtype: float64"
      ]
     },
     "execution_count": 13,
     "metadata": {},
     "output_type": "execute_result"
    }
   ],
   "source": [
    "donnees[\"prop_cat\"].value_counts(normalize=True)"
   ]
  },
  {
   "cell_type": "code",
   "execution_count": 14,
   "metadata": {
    "execution": {
     "iopub.execute_input": "2020-12-22T18:32:06.885697Z",
     "iopub.status.busy": "2020-12-22T18:32:06.884104Z",
     "iopub.status.idle": "2020-12-22T18:32:06.953010Z",
     "shell.execute_reply": "2020-12-22T18:32:06.950522Z"
    }
   },
   "outputs": [],
   "source": [
    "donnees[\"prop_f_ab\"] = donnees[\"prop_f\"].fillna(\"Absent\")"
   ]
  },
  {
   "cell_type": "code",
   "execution_count": 15,
   "metadata": {
    "attributes": {
     "caption": "\"Exemple d'une représentation graphique exploratoire\"",
     "classes": [],
     "fig": "'explo'",
     "id": ""
    },
    "execution": {
     "iopub.execute_input": "2020-12-22T18:32:06.972438Z",
     "iopub.status.busy": "2020-12-22T18:32:06.970521Z",
     "iopub.status.idle": "2020-12-22T18:32:08.392888Z",
     "shell.execute_reply": "2020-12-22T18:32:08.394005Z"
    }
   },
   "outputs": [
    {
     "data": {
      "image/png": "[encoded data removed]",
      "text/plain": [
       "<Figure size 432x288 with 1 Axes>"
      ]
     },
     "metadata": {
      "needs_background": "light"
     },
     "output_type": "display_data"
    }
   ],
   "source": [
    "comptage = donnees[\"prop_cat\"].value_counts()\n",
    "ax = comptage.plot(kind=\"barh\", color=\"lightgray\")"
   ]
  },
  {
   "cell_type": "code",
   "execution_count": 16,
   "metadata": {
    "execution": {
     "iopub.execute_input": "2020-12-22T18:32:08.409273Z",
     "iopub.status.busy": "2020-12-22T18:32:08.406554Z",
     "iopub.status.idle": "2020-12-22T18:32:08.439432Z",
     "shell.execute_reply": "2020-12-22T18:32:08.440287Z"
    }
   },
   "outputs": [
    {
     "data": {
      "text/plain": [
       "1869.8347410943811"
      ]
     },
     "execution_count": 16,
     "metadata": {},
     "output_type": "execute_result"
    }
   ],
   "source": [
    "donnees[\"P15_POP\"].mean()"
   ]
  },
  {
   "cell_type": "code",
   "execution_count": 17,
   "metadata": {
    "execution": {
     "iopub.execute_input": "2020-12-22T18:32:08.445336Z",
     "iopub.status.busy": "2020-12-22T18:32:08.444321Z",
     "iopub.status.idle": "2020-12-22T18:32:08.466432Z",
     "shell.execute_reply": "2020-12-22T18:32:08.467818Z"
    }
   },
   "outputs": [
    {
     "data": {
      "text/plain": [
       "450.0"
      ]
     },
     "execution_count": 17,
     "metadata": {},
     "output_type": "execute_result"
    }
   ],
   "source": [
    "donnees[\"P15_POP\"].median()"
   ]
  },
  {
   "cell_type": "code",
   "execution_count": 18,
   "metadata": {
    "execution": {
     "iopub.execute_input": "2020-12-22T18:32:08.477135Z",
     "iopub.status.busy": "2020-12-22T18:32:08.476177Z",
     "iopub.status.idle": "2020-12-22T18:32:08.520840Z",
     "shell.execute_reply": "2020-12-22T18:32:08.522637Z"
    }
   },
   "outputs": [
    {
     "data": {
      "text/plain": [
       "0   107.00\n",
       "dtype: float64"
      ]
     },
     "execution_count": 18,
     "metadata": {},
     "output_type": "execute_result"
    }
   ],
   "source": [
    "donnees[\"P15_POP\"].mode()"
   ]
  },
  {
   "cell_type": "code",
   "execution_count": 19,
   "metadata": {
    "execution": {
     "iopub.execute_input": "2020-12-22T18:32:08.528579Z",
     "iopub.status.busy": "2020-12-22T18:32:08.528005Z",
     "iopub.status.idle": "2020-12-22T18:32:08.576796Z",
     "shell.execute_reply": "2020-12-22T18:32:08.577753Z"
    }
   },
   "outputs": [
    {
     "data": {
      "text/plain": [
       "15028.28010700149"
      ]
     },
     "execution_count": 19,
     "metadata": {},
     "output_type": "execute_result"
    }
   ],
   "source": [
    "donnees[\"P15_POP\"].std()"
   ]
  },
  {
   "cell_type": "code",
   "execution_count": 20,
   "metadata": {
    "execution": {
     "iopub.execute_input": "2020-12-22T18:32:08.611883Z",
     "iopub.status.busy": "2020-12-22T18:32:08.611046Z",
     "iopub.status.idle": "2020-12-22T18:32:08.662603Z",
     "shell.execute_reply": "2020-12-22T18:32:08.665028Z"
    }
   },
   "outputs": [
    {
     "data": {
      "text/plain": [
       "0.00         0.00\n",
       "0.25       198.00\n",
       "0.50       450.00\n",
       "0.75      1131.00\n",
       "1.00   2206488.00\n",
       "Name: P15_POP, dtype: float64"
      ]
     },
     "execution_count": 20,
     "metadata": {},
     "output_type": "execute_result"
    }
   ],
   "source": [
    "donnees[\"P15_POP\"].quantile([0,0.25,0.5,0.75,1])"
   ]
  },
  {
   "cell_type": "code",
   "execution_count": 21,
   "metadata": {
    "execution": {
     "iopub.execute_input": "2020-12-22T18:32:08.695124Z",
     "iopub.status.busy": "2020-12-22T18:32:08.688223Z",
     "iopub.status.idle": "2020-12-22T18:32:14.376627Z",
     "shell.execute_reply": "2020-12-22T18:32:14.378036Z"
    }
   },
   "outputs": [],
   "source": [
    "q = [0,0.25,0.5,0.75,1]\n",
    "l = [\"Q1\",\"Q2\",\"Q3\",\"Q4\"]\n",
    "\n",
    "donnees[\"P15_POP_C\"]=pd.qcut(donnees[\"P15_POP\"],q,l)\n",
    "donnees[\"prop_f_C\"]=pd.qcut(donnees[\"prop_f\"],q,l)\n",
    "donnees[\"prop_sup75_C\"]=pd.qcut(donnees[\"prop_sup75\"],q,l)\n",
    "donnees[\"prop_ouvriers_C\"]=pd.qcut(donnees[\"prop_ouvriers\"],q,l)\n",
    "\n",
    "donnees.to_csv(\"./data/data-chap6.csv\")"
   ]
  },
  {
   "cell_type": "code",
   "execution_count": 22,
   "metadata": {
    "execution": {
     "iopub.execute_input": "2020-12-22T18:32:14.393952Z",
     "iopub.status.busy": "2020-12-22T18:32:14.391980Z",
     "iopub.status.idle": "2020-12-22T18:32:14.507614Z",
     "shell.execute_reply": "2020-12-22T18:32:14.512182Z"
    }
   },
   "outputs": [
    {
     "name": "stdout",
     "output_type": "stream",
     "text": [
      "933.0\n"
     ]
    }
   ],
   "source": [
    "Q = donnees[\"P15_POP\"].quantile([0.25,0.75])\n",
    "print(Q[0.75]-Q[0.25])"
   ]
  },
  {
   "cell_type": "code",
   "execution_count": 23,
   "metadata": {
    "execution": {
     "iopub.execute_input": "2020-12-22T18:32:14.555969Z",
     "iopub.status.busy": "2020-12-22T18:32:14.554047Z",
     "iopub.status.idle": "2020-12-22T18:32:14.664014Z",
     "shell.execute_reply": "2020-12-22T18:32:14.662698Z"
    }
   },
   "outputs": [
    {
     "data": {
      "text/plain": [
       "count     35399.00\n",
       "mean       1869.83\n",
       "std       15028.28\n",
       "min           0.00\n",
       "25%         198.00\n",
       "50%         450.00\n",
       "75%        1131.00\n",
       "max     2206488.00\n",
       "Name: P15_POP, dtype: float64"
      ]
     },
     "execution_count": 23,
     "metadata": {},
     "output_type": "execute_result"
    }
   ],
   "source": [
    "donnees[\"P15_POP\"].describe()"
   ]
  },
  {
   "cell_type": "code",
   "execution_count": 24,
   "metadata": {
    "execution": {
     "iopub.execute_input": "2020-12-22T18:32:14.711361Z",
     "iopub.status.busy": "2020-12-22T18:32:14.709483Z",
     "iopub.status.idle": "2020-12-22T18:32:15.489658Z",
     "shell.execute_reply": "2020-12-22T18:32:15.505215Z"
    }
   },
   "outputs": [
    {
     "data": {
      "text/plain": [
       "False    35382\n",
       "True        17\n",
       "Name: P15_POP, dtype: int64"
      ]
     },
     "execution_count": 24,
     "metadata": {},
     "output_type": "execute_result"
    }
   ],
   "source": [
    "# Définition de la fonction\n",
    "def identifie_outliers(valeur, nb_std, m, std):\n",
    "    distance = abs(valeur-m)/std\n",
    "    if distance > nb_std :\n",
    "        return True\n",
    "    return False\n",
    "\n",
    "# Calcul des indicateurs\n",
    "moyenne = donnees[\"P15_POP\"].mean()\n",
    "ecarttype = donnees[\"P15_POP\"].std()\n",
    "\n",
    "# Identification des outliers\n",
    "outliers = donnees[\"P15_POP\"].apply(identifie_outliers,\n",
    "        args = (10,moyenne,ecarttype))\n",
    "outliers.value_counts()"
   ]
  },
  {
   "cell_type": "code",
   "execution_count": 25,
   "metadata": {
    "execution": {
     "iopub.execute_input": "2020-12-22T18:32:15.546029Z",
     "iopub.status.busy": "2020-12-22T18:32:15.510673Z",
     "iopub.status.idle": "2020-12-22T18:32:16.268236Z",
     "shell.execute_reply": "2020-12-22T18:32:16.270412Z"
    }
   },
   "outputs": [
    {
     "data": {
      "text/html": [
       "<div>\n",
       "<style scoped>\n",
       "    .dataframe tbody tr th:only-of-type {\n",
       "        vertical-align: middle;\n",
       "    }\n",
       "\n",
       "    .dataframe tbody tr th {\n",
       "        vertical-align: top;\n",
       "    }\n",
       "\n",
       "    .dataframe thead th {\n",
       "        text-align: right;\n",
       "    }\n",
       "</style>\n",
       "<table border=\"1\" class=\"dataframe\">\n",
       "  <thead>\n",
       "    <tr style=\"text-align: right;\">\n",
       "      <th>prop_sup75_C</th>\n",
       "      <th>Q1</th>\n",
       "      <th>Q2</th>\n",
       "      <th>Q3</th>\n",
       "      <th>Q4</th>\n",
       "    </tr>\n",
       "    <tr>\n",
       "      <th>prop_f_C</th>\n",
       "      <th></th>\n",
       "      <th></th>\n",
       "      <th></th>\n",
       "      <th></th>\n",
       "    </tr>\n",
       "  </thead>\n",
       "  <tbody>\n",
       "    <tr>\n",
       "      <th>Q1</th>\n",
       "      <td>2649</td>\n",
       "      <td>2064</td>\n",
       "      <td>2146</td>\n",
       "      <td>2055</td>\n",
       "    </tr>\n",
       "    <tr>\n",
       "      <th>Q2</th>\n",
       "      <td>2943</td>\n",
       "      <td>2423</td>\n",
       "      <td>2070</td>\n",
       "      <td>1542</td>\n",
       "    </tr>\n",
       "    <tr>\n",
       "      <th>Q3</th>\n",
       "      <td>2359</td>\n",
       "      <td>2515</td>\n",
       "      <td>2390</td>\n",
       "      <td>1655</td>\n",
       "    </tr>\n",
       "    <tr>\n",
       "      <th>Q4</th>\n",
       "      <td>1207</td>\n",
       "      <td>1567</td>\n",
       "      <td>2305</td>\n",
       "      <td>3503</td>\n",
       "    </tr>\n",
       "  </tbody>\n",
       "</table>\n",
       "</div>"
      ],
      "text/plain": [
       "prop_sup75_C    Q1    Q2    Q3    Q4\n",
       "prop_f_C                            \n",
       "Q1            2649  2064  2146  2055\n",
       "Q2            2943  2423  2070  1542\n",
       "Q3            2359  2515  2390  1655\n",
       "Q4            1207  1567  2305  3503"
      ]
     },
     "execution_count": 25,
     "metadata": {},
     "output_type": "execute_result"
    }
   ],
   "source": [
    "pd.crosstab(donnees[\"prop_f_C\"], donnees[\"prop_sup75_C\"])"
   ]
  },
  {
   "cell_type": "code",
   "execution_count": 26,
   "metadata": {
    "execution": {
     "iopub.execute_input": "2020-12-22T18:32:16.278734Z",
     "iopub.status.busy": "2020-12-22T18:32:16.274172Z",
     "iopub.status.idle": "2020-12-22T18:32:16.786517Z",
     "shell.execute_reply": "2020-12-22T18:32:16.784467Z"
    }
   },
   "outputs": [
    {
     "data": {
      "text/html": [
       "<div>\n",
       "<style scoped>\n",
       "    .dataframe tbody tr th:only-of-type {\n",
       "        vertical-align: middle;\n",
       "    }\n",
       "\n",
       "    .dataframe tbody tr th {\n",
       "        vertical-align: top;\n",
       "    }\n",
       "\n",
       "    .dataframe thead th {\n",
       "        text-align: right;\n",
       "    }\n",
       "</style>\n",
       "<table border=\"1\" class=\"dataframe\">\n",
       "  <thead>\n",
       "    <tr style=\"text-align: right;\">\n",
       "      <th>prop_sup75_C</th>\n",
       "      <th>Q1</th>\n",
       "      <th>Q2</th>\n",
       "      <th>Q3</th>\n",
       "      <th>Q4</th>\n",
       "      <th>All</th>\n",
       "    </tr>\n",
       "    <tr>\n",
       "      <th>prop_f_C</th>\n",
       "      <th></th>\n",
       "      <th></th>\n",
       "      <th></th>\n",
       "      <th></th>\n",
       "      <th></th>\n",
       "    </tr>\n",
       "  </thead>\n",
       "  <tbody>\n",
       "    <tr>\n",
       "      <th>Q1</th>\n",
       "      <td>28.93</td>\n",
       "      <td>24.09</td>\n",
       "      <td>24.08</td>\n",
       "      <td>23.47</td>\n",
       "      <td>25.19</td>\n",
       "    </tr>\n",
       "    <tr>\n",
       "      <th>Q2</th>\n",
       "      <td>32.14</td>\n",
       "      <td>28.28</td>\n",
       "      <td>23.23</td>\n",
       "      <td>17.61</td>\n",
       "      <td>25.37</td>\n",
       "    </tr>\n",
       "    <tr>\n",
       "      <th>Q3</th>\n",
       "      <td>25.76</td>\n",
       "      <td>29.35</td>\n",
       "      <td>26.82</td>\n",
       "      <td>18.90</td>\n",
       "      <td>25.20</td>\n",
       "    </tr>\n",
       "    <tr>\n",
       "      <th>Q4</th>\n",
       "      <td>13.18</td>\n",
       "      <td>18.29</td>\n",
       "      <td>25.87</td>\n",
       "      <td>40.01</td>\n",
       "      <td>24.25</td>\n",
       "    </tr>\n",
       "  </tbody>\n",
       "</table>\n",
       "</div>"
      ],
      "text/plain": [
       "prop_sup75_C    Q1    Q2    Q3    Q4   All\n",
       "prop_f_C                                  \n",
       "Q1           28.93 24.09 24.08 23.47 25.19\n",
       "Q2           32.14 28.28 23.23 17.61 25.37\n",
       "Q3           25.76 29.35 26.82 18.90 25.20\n",
       "Q4           13.18 18.29 25.87 40.01 24.25"
      ]
     },
     "execution_count": 26,
     "metadata": {},
     "output_type": "execute_result"
    }
   ],
   "source": [
    "tab = pd.crosstab(donnees[\"prop_f_C\"],\n",
    "                  donnees[\"prop_sup75_C\"],\n",
    "                  normalize='columns',\n",
    "                  margins=True)\n",
    "round(100*tab,2)"
   ]
  },
  {
   "cell_type": "code",
   "execution_count": 27,
   "metadata": {
    "execution": {
     "iopub.execute_input": "2020-12-22T18:32:16.805301Z",
     "iopub.status.busy": "2020-12-22T18:32:16.804318Z",
     "iopub.status.idle": "2020-12-22T18:32:16.876332Z",
     "shell.execute_reply": "2020-12-22T18:32:16.875734Z"
    }
   },
   "outputs": [
    {
     "data": {
      "text/html": [
       "<div>\n",
       "<style scoped>\n",
       "    .dataframe tbody tr th:only-of-type {\n",
       "        vertical-align: middle;\n",
       "    }\n",
       "\n",
       "    .dataframe tbody tr th {\n",
       "        vertical-align: top;\n",
       "    }\n",
       "\n",
       "    .dataframe thead th {\n",
       "        text-align: right;\n",
       "    }\n",
       "</style>\n",
       "<table border=\"1\" class=\"dataframe\">\n",
       "  <thead>\n",
       "    <tr style=\"text-align: right;\">\n",
       "      <th></th>\n",
       "      <th>prop femmes</th>\n",
       "      <th>Q1</th>\n",
       "      <th>Q2</th>\n",
       "      <th>Q3</th>\n",
       "      <th>Q4</th>\n",
       "    </tr>\n",
       "    <tr>\n",
       "      <th>prop vieux</th>\n",
       "      <th>prop ouvriers</th>\n",
       "      <th></th>\n",
       "      <th></th>\n",
       "      <th></th>\n",
       "      <th></th>\n",
       "    </tr>\n",
       "  </thead>\n",
       "  <tbody>\n",
       "    <tr>\n",
       "      <th rowspan=\"4\" valign=\"top\">Q1</th>\n",
       "      <th>Q1</th>\n",
       "      <td>588</td>\n",
       "      <td>638</td>\n",
       "      <td>583</td>\n",
       "      <td>380</td>\n",
       "    </tr>\n",
       "    <tr>\n",
       "      <th>Q2</th>\n",
       "      <td>507</td>\n",
       "      <td>794</td>\n",
       "      <td>698</td>\n",
       "      <td>292</td>\n",
       "    </tr>\n",
       "    <tr>\n",
       "      <th>Q3</th>\n",
       "      <td>635</td>\n",
       "      <td>813</td>\n",
       "      <td>616</td>\n",
       "      <td>255</td>\n",
       "    </tr>\n",
       "    <tr>\n",
       "      <th>Q4</th>\n",
       "      <td>919</td>\n",
       "      <td>698</td>\n",
       "      <td>462</td>\n",
       "      <td>280</td>\n",
       "    </tr>\n",
       "    <tr>\n",
       "      <th rowspan=\"4\" valign=\"top\">Q2</th>\n",
       "      <th>Q1</th>\n",
       "      <td>402</td>\n",
       "      <td>423</td>\n",
       "      <td>556</td>\n",
       "      <td>458</td>\n",
       "    </tr>\n",
       "    <tr>\n",
       "      <th>Q2</th>\n",
       "      <td>413</td>\n",
       "      <td>564</td>\n",
       "      <td>692</td>\n",
       "      <td>398</td>\n",
       "    </tr>\n",
       "    <tr>\n",
       "      <th>Q3</th>\n",
       "      <td>502</td>\n",
       "      <td>703</td>\n",
       "      <td>703</td>\n",
       "      <td>400</td>\n",
       "    </tr>\n",
       "    <tr>\n",
       "      <th>Q4</th>\n",
       "      <td>747</td>\n",
       "      <td>733</td>\n",
       "      <td>564</td>\n",
       "      <td>311</td>\n",
       "    </tr>\n",
       "    <tr>\n",
       "      <th rowspan=\"4\" valign=\"top\">Q3</th>\n",
       "      <th>Q1</th>\n",
       "      <td>511</td>\n",
       "      <td>384</td>\n",
       "      <td>501</td>\n",
       "      <td>658</td>\n",
       "    </tr>\n",
       "    <tr>\n",
       "      <th>Q2</th>\n",
       "      <td>429</td>\n",
       "      <td>447</td>\n",
       "      <td>619</td>\n",
       "      <td>649</td>\n",
       "    </tr>\n",
       "    <tr>\n",
       "      <th>Q3</th>\n",
       "      <td>505</td>\n",
       "      <td>585</td>\n",
       "      <td>687</td>\n",
       "      <td>600</td>\n",
       "    </tr>\n",
       "    <tr>\n",
       "      <th>Q4</th>\n",
       "      <td>701</td>\n",
       "      <td>654</td>\n",
       "      <td>583</td>\n",
       "      <td>398</td>\n",
       "    </tr>\n",
       "    <tr>\n",
       "      <th rowspan=\"4\" valign=\"top\">Q4</th>\n",
       "      <th>Q1</th>\n",
       "      <td>779</td>\n",
       "      <td>519</td>\n",
       "      <td>514</td>\n",
       "      <td>1210</td>\n",
       "    </tr>\n",
       "    <tr>\n",
       "      <th>Q2</th>\n",
       "      <td>395</td>\n",
       "      <td>330</td>\n",
       "      <td>410</td>\n",
       "      <td>990</td>\n",
       "    </tr>\n",
       "    <tr>\n",
       "      <th>Q3</th>\n",
       "      <td>379</td>\n",
       "      <td>346</td>\n",
       "      <td>424</td>\n",
       "      <td>867</td>\n",
       "    </tr>\n",
       "    <tr>\n",
       "      <th>Q4</th>\n",
       "      <td>502</td>\n",
       "      <td>347</td>\n",
       "      <td>307</td>\n",
       "      <td>436</td>\n",
       "    </tr>\n",
       "  </tbody>\n",
       "</table>\n",
       "</div>"
      ],
      "text/plain": [
       "prop femmes                Q1   Q2   Q3    Q4\n",
       "prop vieux prop ouvriers                     \n",
       "Q1         Q1             588  638  583   380\n",
       "           Q2             507  794  698   292\n",
       "           Q3             635  813  616   255\n",
       "           Q4             919  698  462   280\n",
       "Q2         Q1             402  423  556   458\n",
       "           Q2             413  564  692   398\n",
       "           Q3             502  703  703   400\n",
       "           Q4             747  733  564   311\n",
       "Q3         Q1             511  384  501   658\n",
       "           Q2             429  447  619   649\n",
       "           Q3             505  585  687   600\n",
       "           Q4             701  654  583   398\n",
       "Q4         Q1             779  519  514  1210\n",
       "           Q2             395  330  410   990\n",
       "           Q3             379  346  424   867\n",
       "           Q4             502  347  307   436"
      ]
     },
     "execution_count": 27,
     "metadata": {},
     "output_type": "execute_result"
    }
   ],
   "source": [
    "tab3 = pd.crosstab([donnees[\"prop_sup75_C\"],\n",
    "                    donnees[\"prop_ouvriers_C\"]],\n",
    "                donnees[\"prop_f_C\"],\n",
    "                rownames=[\"prop vieux\",\"prop ouvriers\"],\n",
    "                colnames=[\"prop femmes\"])\n",
    "tab3"
   ]
  },
  {
   "cell_type": "code",
   "execution_count": 28,
   "metadata": {
    "execution": {
     "iopub.execute_input": "2020-12-22T18:32:16.890963Z",
     "iopub.status.busy": "2020-12-22T18:32:16.882900Z",
     "iopub.status.idle": "2020-12-22T18:32:23.736148Z",
     "shell.execute_reply": "2020-12-22T18:32:23.741478Z"
    }
   },
   "outputs": [
    {
     "data": {
      "text/plain": [
       "-0.13"
      ]
     },
     "execution_count": 28,
     "metadata": {},
     "output_type": "execute_result"
    }
   ],
   "source": [
    "from scipy.stats import pearsonr\n",
    "\n",
    "variable1 = list(donnees[\"prop_sup75\"].dropna())\n",
    "variable2 = list(donnees[\"prop_ouvriers\"].dropna())\n",
    "round(pearsonr(variable1,variable2)[0],2)"
   ]
  },
  {
   "cell_type": "code",
   "execution_count": 29,
   "metadata": {
    "execution": {
     "iopub.execute_input": "2020-12-22T18:32:23.832684Z",
     "iopub.status.busy": "2020-12-22T18:32:23.806367Z",
     "iopub.status.idle": "2020-12-22T18:32:24.174341Z",
     "shell.execute_reply": "2020-12-22T18:32:24.176745Z"
    }
   },
   "outputs": [
    {
     "data": {
      "text/html": [
       "<div>\n",
       "<style scoped>\n",
       "    .dataframe tbody tr th:only-of-type {\n",
       "        vertical-align: middle;\n",
       "    }\n",
       "\n",
       "    .dataframe tbody tr th {\n",
       "        vertical-align: top;\n",
       "    }\n",
       "\n",
       "    .dataframe thead th {\n",
       "        text-align: right;\n",
       "    }\n",
       "</style>\n",
       "<table border=\"1\" class=\"dataframe\">\n",
       "  <thead>\n",
       "    <tr style=\"text-align: right;\">\n",
       "      <th></th>\n",
       "      <th>prop_sup75</th>\n",
       "      <th>prop_ouvriers</th>\n",
       "      <th>prop_f</th>\n",
       "    </tr>\n",
       "  </thead>\n",
       "  <tbody>\n",
       "    <tr>\n",
       "      <th>prop_sup75</th>\n",
       "      <td>1.00</td>\n",
       "      <td>-0.13</td>\n",
       "      <td>0.16</td>\n",
       "    </tr>\n",
       "    <tr>\n",
       "      <th>prop_ouvriers</th>\n",
       "      <td>-0.13</td>\n",
       "      <td>1.00</td>\n",
       "      <td>-0.11</td>\n",
       "    </tr>\n",
       "    <tr>\n",
       "      <th>prop_f</th>\n",
       "      <td>0.16</td>\n",
       "      <td>-0.11</td>\n",
       "      <td>1.00</td>\n",
       "    </tr>\n",
       "  </tbody>\n",
       "</table>\n",
       "</div>"
      ],
      "text/plain": [
       "               prop_sup75  prop_ouvriers  prop_f\n",
       "prop_sup75           1.00          -0.13    0.16\n",
       "prop_ouvriers       -0.13           1.00   -0.11\n",
       "prop_f               0.16          -0.11    1.00"
      ]
     },
     "execution_count": 29,
     "metadata": {},
     "output_type": "execute_result"
    }
   ],
   "source": [
    "donnees[[\"prop_sup75\",\"prop_ouvriers\",\"prop_f\"]].corr()"
   ]
  },
  {
   "cell_type": "code",
   "execution_count": 30,
   "metadata": {
    "execution": {
     "iopub.execute_input": "2020-12-22T18:32:24.190995Z",
     "iopub.status.busy": "2020-12-22T18:32:24.187555Z",
     "iopub.status.idle": "2020-12-22T18:32:24.256509Z",
     "shell.execute_reply": "2020-12-22T18:32:24.258627Z"
    }
   },
   "outputs": [
    {
     "data": {
      "text/plain": [
       "prop_f_C\n",
       "Q1    382.62\n",
       "Q2    886.30\n",
       "Q3   1961.62\n",
       "Q4   4349.42\n",
       "Name: P15_POP, dtype: float64"
      ]
     },
     "execution_count": 30,
     "metadata": {},
     "output_type": "execute_result"
    }
   ],
   "source": [
    "donnees.groupby(\"prop_f_C\")[\"P15_POP\"].mean()"
   ]
  },
  {
   "cell_type": "code",
   "execution_count": 31,
   "metadata": {
    "execution": {
     "iopub.execute_input": "2020-12-22T18:32:24.274393Z",
     "iopub.status.busy": "2020-12-22T18:32:24.267045Z",
     "iopub.status.idle": "2020-12-22T18:32:24.385585Z",
     "shell.execute_reply": "2020-12-22T18:32:24.390715Z"
    }
   },
   "outputs": [
    {
     "data": {
      "text/html": [
       "<div>\n",
       "<style scoped>\n",
       "    .dataframe tbody tr th:only-of-type {\n",
       "        vertical-align: middle;\n",
       "    }\n",
       "\n",
       "    .dataframe tbody tr th {\n",
       "        vertical-align: top;\n",
       "    }\n",
       "\n",
       "    .dataframe thead th {\n",
       "        text-align: right;\n",
       "    }\n",
       "</style>\n",
       "<table border=\"1\" class=\"dataframe\">\n",
       "  <thead>\n",
       "    <tr style=\"text-align: right;\">\n",
       "      <th></th>\n",
       "      <th>median</th>\n",
       "      <th>mean</th>\n",
       "    </tr>\n",
       "    <tr>\n",
       "      <th>prop_f_C</th>\n",
       "      <th></th>\n",
       "      <th></th>\n",
       "    </tr>\n",
       "  </thead>\n",
       "  <tbody>\n",
       "    <tr>\n",
       "      <th>Q1</th>\n",
       "      <td>226.00</td>\n",
       "      <td>382.62</td>\n",
       "    </tr>\n",
       "    <tr>\n",
       "      <th>Q2</th>\n",
       "      <td>500.00</td>\n",
       "      <td>886.30</td>\n",
       "    </tr>\n",
       "    <tr>\n",
       "      <th>Q3</th>\n",
       "      <td>720.00</td>\n",
       "      <td>1961.62</td>\n",
       "    </tr>\n",
       "    <tr>\n",
       "      <th>Q4</th>\n",
       "      <td>673.00</td>\n",
       "      <td>4349.42</td>\n",
       "    </tr>\n",
       "  </tbody>\n",
       "</table>\n",
       "</div>"
      ],
      "text/plain": [
       "          median    mean\n",
       "prop_f_C                \n",
       "Q1        226.00  382.62\n",
       "Q2        500.00  886.30\n",
       "Q3        720.00 1961.62\n",
       "Q4        673.00 4349.42"
      ]
     },
     "execution_count": 31,
     "metadata": {},
     "output_type": "execute_result"
    }
   ],
   "source": [
    "donnees.groupby(\"prop_f_C\")[\"P15_POP\"].agg([\"median\",\"mean\"])"
   ]
  },
  {
   "cell_type": "code",
   "execution_count": 32,
   "metadata": {
    "execution": {
     "iopub.execute_input": "2020-12-22T18:32:24.400214Z",
     "iopub.status.busy": "2020-12-22T18:32:24.398948Z",
     "iopub.status.idle": "2020-12-22T18:32:24.417945Z",
     "shell.execute_reply": "2020-12-22T18:32:24.417474Z"
    }
   },
   "outputs": [
    {
     "name": "stdout",
     "output_type": "stream",
     "text": [
      "Moyenne : 5e+01 [2.7]\n"
     ]
    }
   ],
   "source": [
    "m = donnees[\"prop_f\"].mean()\n",
    "et = donnees[\"prop_f\"].std()\n",
    "print(\"Moyenne : {:0.2} [{:0.2}]\".format(m, et))"
   ]
  },
  {
   "cell_type": "code",
   "execution_count": 33,
   "metadata": {
    "execution": {
     "iopub.execute_input": "2020-12-22T18:32:24.447567Z",
     "iopub.status.busy": "2020-12-22T18:32:24.433225Z",
     "iopub.status.idle": "2020-12-22T18:32:24.465978Z",
     "shell.execute_reply": "2020-12-22T18:32:24.466910Z"
    }
   },
   "outputs": [
    {
     "name": "stdout",
     "output_type": "stream",
     "text": [
      "La p-value du test est 0.000000e+00\n"
     ]
    }
   ],
   "source": [
    "from scipy.stats import normaltest\n",
    "test = normaltest(donnees[\"prop_f\"].dropna())\n",
    "print(\"La p-value du test est {:e}\".format(test[1]))"
   ]
  },
  {
   "cell_type": "code",
   "execution_count": 34,
   "metadata": {
    "execution": {
     "iopub.execute_input": "2020-12-22T18:32:24.486462Z",
     "iopub.status.busy": "2020-12-22T18:32:24.485428Z",
     "iopub.status.idle": "2020-12-22T18:32:24.642388Z",
     "shell.execute_reply": "2020-12-22T18:32:24.641103Z"
    }
   },
   "outputs": [
    {
     "name": "stdout",
     "output_type": "stream",
     "text": [
      "Moyenne : 5e+01 [2.523860e+00]\n"
     ]
    }
   ],
   "source": [
    "echantillon = donnees[\"prop_f\"].sample(frac=0.01)\n",
    "m = echantillon.mean()\n",
    "et = echantillon.std()\n",
    "print(\"Moyenne : {:0.2} [{:e}]\".format(m, et))"
   ]
  },
  {
   "cell_type": "code",
   "execution_count": 35,
   "metadata": {
    "execution": {
     "iopub.execute_input": "2020-12-22T18:32:24.681167Z",
     "iopub.status.busy": "2020-12-22T18:32:24.675283Z",
     "iopub.status.idle": "2020-12-22T18:32:24.815842Z",
     "shell.execute_reply": "2020-12-22T18:32:24.813715Z"
    }
   },
   "outputs": [
    {
     "name": "stdout",
     "output_type": "stream",
     "text": [
      "49.59782164891687 50.123647277636785\n"
     ]
    }
   ],
   "source": [
    "from scipy.stats import sem, norm\n",
    "m = echantillon.mean()\n",
    "es = sem(echantillon)\n",
    "intervalle = norm.interval(0.95, loc=m, scale=es)\n",
    "print(intervalle[0],intervalle[1])"
   ]
  },
  {
   "cell_type": "code",
   "execution_count": 36,
   "metadata": {
    "execution": {
     "iopub.execute_input": "2020-12-22T18:32:24.879085Z",
     "iopub.status.busy": "2020-12-22T18:32:24.872203Z",
     "iopub.status.idle": "2020-12-22T18:32:25.080353Z",
     "shell.execute_reply": "2020-12-22T18:32:25.081691Z"
    }
   },
   "outputs": [
    {
     "name": "stdout",
     "output_type": "stream",
     "text": [
      "2188.9 0.0\n"
     ]
    }
   ],
   "source": [
    "from scipy.stats import chi2_contingency\n",
    "tableau_croise = pd.crosstab(donnees[\"prop_f_C\"], \n",
    "                    donnees[\"prop_sup75_C\"])\n",
    "chi2 = chi2_contingency(tableau_croise)\n",
    "print(round(chi2[0],1), chi2[1])"
   ]
  },
  {
   "cell_type": "code",
   "execution_count": 37,
   "metadata": {
    "execution": {
     "iopub.execute_input": "2020-12-22T18:32:25.110531Z",
     "iopub.status.busy": "2020-12-22T18:32:25.096955Z",
     "iopub.status.idle": "2020-12-22T18:32:25.182877Z",
     "shell.execute_reply": "2020-12-22T18:32:25.183571Z"
    }
   },
   "outputs": [
    {
     "data": {
      "text/html": [
       "<div>\n",
       "<style scoped>\n",
       "    .dataframe tbody tr th:only-of-type {\n",
       "        vertical-align: middle;\n",
       "    }\n",
       "\n",
       "    .dataframe tbody tr th {\n",
       "        vertical-align: top;\n",
       "    }\n",
       "\n",
       "    .dataframe thead th {\n",
       "        text-align: right;\n",
       "    }\n",
       "</style>\n",
       "<table border=\"1\" class=\"dataframe\">\n",
       "  <thead>\n",
       "    <tr style=\"text-align: right;\">\n",
       "      <th>prop_sup75_C</th>\n",
       "      <th>Q1</th>\n",
       "      <th>Q2</th>\n",
       "      <th>Q3</th>\n",
       "      <th>Q4</th>\n",
       "    </tr>\n",
       "    <tr>\n",
       "      <th>prop_f_C</th>\n",
       "      <th></th>\n",
       "      <th></th>\n",
       "      <th></th>\n",
       "      <th></th>\n",
       "    </tr>\n",
       "  </thead>\n",
       "  <tbody>\n",
       "    <tr>\n",
       "      <th>Q1</th>\n",
       "      <td>342.49</td>\n",
       "      <td>-94.17</td>\n",
       "      <td>-98.30</td>\n",
       "      <td>-150.01</td>\n",
       "    </tr>\n",
       "    <tr>\n",
       "      <th>Q2</th>\n",
       "      <td>619.93</td>\n",
       "      <td>249.34</td>\n",
       "      <td>-190.42</td>\n",
       "      <td>-678.85</td>\n",
       "    </tr>\n",
       "    <tr>\n",
       "      <th>Q3</th>\n",
       "      <td>51.19</td>\n",
       "      <td>355.62</td>\n",
       "      <td>144.44</td>\n",
       "      <td>-551.25</td>\n",
       "    </tr>\n",
       "    <tr>\n",
       "      <th>Q4</th>\n",
       "      <td>-1013.61</td>\n",
       "      <td>-510.79</td>\n",
       "      <td>144.28</td>\n",
       "      <td>1380.11</td>\n",
       "    </tr>\n",
       "  </tbody>\n",
       "</table>\n",
       "</div>"
      ],
      "text/plain": [
       "prop_sup75_C       Q1      Q2      Q3      Q4\n",
       "prop_f_C                                     \n",
       "Q1             342.49  -94.17  -98.30 -150.01\n",
       "Q2             619.93  249.34 -190.42 -678.85\n",
       "Q3              51.19  355.62  144.44 -551.25\n",
       "Q4           -1013.61 -510.79  144.28 1380.11"
      ]
     },
     "execution_count": 37,
     "metadata": {},
     "output_type": "execute_result"
    }
   ],
   "source": [
    "tableau_croise - chi2[3]"
   ]
  },
  {
   "cell_type": "code",
   "execution_count": 38,
   "metadata": {
    "execution": {
     "iopub.execute_input": "2020-12-22T18:32:25.198605Z",
     "iopub.status.busy": "2020-12-22T18:32:25.195587Z",
     "iopub.status.idle": "2020-12-22T18:32:26.487402Z",
     "shell.execute_reply": "2020-12-22T18:32:26.488881Z"
    }
   },
   "outputs": [
    {
     "data": {
      "text/html": [
       "<div>\n",
       "<style scoped>\n",
       "    .dataframe tbody tr th:only-of-type {\n",
       "        vertical-align: middle;\n",
       "    }\n",
       "\n",
       "    .dataframe tbody tr th {\n",
       "        vertical-align: top;\n",
       "    }\n",
       "\n",
       "    .dataframe thead th {\n",
       "        text-align: right;\n",
       "    }\n",
       "</style>\n",
       "<table border=\"1\" class=\"dataframe\">\n",
       "  <thead>\n",
       "    <tr style=\"text-align: right;\">\n",
       "      <th></th>\n",
       "      <th>Chi-square test</th>\n",
       "      <th>results</th>\n",
       "    </tr>\n",
       "  </thead>\n",
       "  <tbody>\n",
       "    <tr>\n",
       "      <th>0</th>\n",
       "      <td>Pearson Chi-square ( 9.0) =</td>\n",
       "      <td>2188.87</td>\n",
       "    </tr>\n",
       "    <tr>\n",
       "      <th>1</th>\n",
       "      <td>p-value =</td>\n",
       "      <td>0.00</td>\n",
       "    </tr>\n",
       "    <tr>\n",
       "      <th>2</th>\n",
       "      <td>Cramer's V =</td>\n",
       "      <td>0.14</td>\n",
       "    </tr>\n",
       "  </tbody>\n",
       "</table>\n",
       "</div>"
      ],
      "text/plain": [
       "                Chi-square test  results\n",
       "0  Pearson Chi-square ( 9.0) =   2188.87\n",
       "1                    p-value =      0.00\n",
       "2                 Cramer's V =      0.14"
      ]
     },
     "execution_count": 38,
     "metadata": {},
     "output_type": "execute_result"
    }
   ],
   "source": [
    "import researchpy\n",
    "tableau = researchpy.crosstab(donnees[\"prop_f_C\"], \n",
    "        donnees[\"prop_sup75_C\"], test= \"chi-square\")\n",
    "tableau[1]"
   ]
  },
  {
   "cell_type": "code",
   "execution_count": 39,
   "metadata": {
    "execution": {
     "iopub.execute_input": "2020-12-22T18:32:26.542388Z",
     "iopub.status.busy": "2020-12-22T18:32:26.541163Z",
     "iopub.status.idle": "2020-12-22T18:32:26.705735Z",
     "shell.execute_reply": "2020-12-22T18:32:26.703323Z"
    }
   },
   "outputs": [
    {
     "name": "stdout",
     "output_type": "stream",
     "text": [
      "Moyenne groupe 1 : 10.4\n",
      "Moyenne groupe 2 : 9.44\n",
      "La p-value du test est 1.587731e-82\n"
     ]
    }
   ],
   "source": [
    "from scipy.stats import ttest_ind\n",
    "\n",
    "med = donnees[\"P15_POP\"].median()\n",
    "pv = donnees[donnees[\"P15_POP\"] < med][\"prop_sup75\"].dropna()\n",
    "gv = donnees[donnees[\"P15_POP\"] >= med][\"prop_sup75\"].dropna()\n",
    "\n",
    "print(\"Moyenne groupe 1 : {}\\nMoyenne groupe 2 : {}\".\\\n",
    "        format(round(pv.mean(),2),round(gv.mean(),2)))\n",
    "\n",
    "test = ttest_ind(pv,gv)\n",
    "print(\"La p-value du test est {:e}\".format(test[1]))"
   ]
  },
  {
   "cell_type": "code",
   "execution_count": 40,
   "metadata": {
    "execution": {
     "iopub.execute_input": "2020-12-22T18:32:26.727868Z",
     "iopub.status.busy": "2020-12-22T18:32:26.726454Z",
     "iopub.status.idle": "2020-12-22T18:32:26.855774Z",
     "shell.execute_reply": "2020-12-22T18:32:26.854435Z"
    }
   },
   "outputs": [
    {
     "name": "stdout",
     "output_type": "stream",
     "text": [
      "La p-value est 1.387835e-43\n"
     ]
    }
   ],
   "source": [
    "from scipy.stats import ranksums\n",
    "\n",
    "Q3 = donnees[donnees[\"P15_POP_C\"]==\"Q3\"][\"prop_sup75\"].dropna()\n",
    "Q4 = donnees[donnees[\"P15_POP_C\"]==\"Q4\"][\"prop_sup75\"].dropna()\n",
    "test = ranksums(Q3,Q4)\n",
    "print(\"La p-value est {:e}\".format(test[1]))"
   ]
  }
 ],
 "metadata": {
  "language_info": {
   "codemirror_mode": {
    "name": "ipython",
    "version": 3
   },
   "file_extension": ".py",
   "mimetype": "text/x-python",
   "name": "python",
   "nbconvert_exporter": "python",
   "pygments_lexer": "ipython3",
   "version": "3.8.3"
  }
 },
 "nbformat": 4,
 "nbformat_minor": 4
}
