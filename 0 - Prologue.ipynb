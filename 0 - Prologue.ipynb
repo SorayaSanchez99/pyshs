{
 "cells": [
  {
   "cell_type": "markdown",
   "metadata": {},
   "source": [
    "# Prologue"
   ]
  },
  {
   "cell_type": "markdown",
   "metadata": {},
   "source": [
    "Ce manuel propose aux praticien·ne·s des Sciences Humaines et Sociales (SHS), étudiants·es, chercheurs·euses ou chargés·es d'études en sociologie, science politique, géographie, histoire ou anthropologie (sans exhaustivité), de s'initier à la programmation informatique en langage Python avec comme objectif le traitement de données. Les données sont ici entendues au sens large."
   ]
  },
  {
   "cell_type": "markdown",
   "metadata": {},
   "source": [
    "![Objet du manuel](images/pythonshsdata_small.png)"
   ]
  },
  {
   "cell_type": "markdown",
   "metadata": {},
   "source": [
    "Il n'y a pas de code dans prologue, vous pouvez retrouver le prologue entier dans le manuel."
   ]
  }
 ],
 "metadata": {
  "kernelspec": {
   "display_name": "Python 3",
   "language": "python",
   "name": "python3"
  },
  "language_info": {
   "codemirror_mode": {
    "name": "ipython",
    "version": 3
   },
   "file_extension": ".py",
   "mimetype": "text/x-python",
   "name": "python",
   "nbconvert_exporter": "python",
   "pygments_lexer": "ipython3",
   "version": "3.7.7"
  }
 },
 "nbformat": 4,
 "nbformat_minor": 4
}
