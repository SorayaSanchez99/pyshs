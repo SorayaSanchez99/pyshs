{
 "cells": [
  {
   "cell_type": "markdown",
   "metadata": {},
   "source": [
    "# PySHS  – Mes Premier pas avec Python et Jupyter\n",
    "\n",
    "Nous somme bien tenté de souhaiter la bienvenue à nos lecteurs, mais ceci serait incorrecte car nous allons vous demander d'interagir avec cette page web. Afin de vous familiariser avec Python nous avons mis en place ce Bac-à-Sable dans lequel vous pouvez vous faire vos premiers pas sans avoir à installer Python sur votre ordinateur.\n",
    "\n",
    "Ainsi vous ne courrez aucun risque, et pouvez tout modifier ou faire des experiences sans peur de casser quoi que ce soit; De plus ceci vous permet de rentrerdirectement dans le vif du sujet sans avoir la surcharge mentale de comprendre les details de l'installation de Python.\n",
    "\n",
    "Par la suite vous aurez besoin d'installer Python; mais chaque chose en son temps.\n",
    "\n",
    "## Cette page est ephémère.\n",
    "\n",
    " - Ne garder rien de critique sur cette page; au bout de quelques heures elle sera complètement effacée et remise en son état original.\n",
    " - N'hésitez pas a tout modifier sur cette page, pour la même raison que précédement.\n",
    " - Si quelquechose ne marche plus, fermez cette page et revenez dans quelques minutes/quelques heure.\n",
    "\n",
    "\n",
    "## Rapide introduction de Jupyter\n",
    "\n",
    "Ce document est un **Notebook Jupyter**, que vous lizez via l'application **JuptyerLab**. Dans le panneau de droite vous pouvez voir les Dossiers et Fichiers qui vons sont accessibles. Vous pouvez cacher le panneau lateral si vous le souhaitez.\n",
    "\n",
    "Les **notebooks** sont constituez de **cellules**; nous verrons typiquement 2 types de cellules, les cellules narratives; comme celle ci. Et les cellules de code.\n",
    "\n",
    "Votre role est de compléter (quand nécessaire), et executer les cellules une à une. Pour se faire; Cliquer dans une cellule de code et presser la combinaison de touche `Maj`+`Entrer`.\n",
    "\n",
    "Ceci devrais executer la cellule, afficher le resultat de l'operation, puis selectionner le cellule suivante. \n",
    "\n",
    "N'oubliez pas de cellules intermédiaires; et n'hésitez pas a modifier, ré-exécuter certaines cellules."
   ]
  },
  {
   "cell_type": "markdown",
   "metadata": {},
   "source": [
    "## Ne pas avoir peur de faire des erreurs"
   ]
  },
  {
   "cell_type": "markdown",
   "metadata": {},
   "source": [
    "La cellule suivant à une erreur; cliquez dedant et appuyez sur `Maj`+`Entrer`, vous obtiendrez une erreur."
   ]
  },
  {
   "cell_type": "code",
   "execution_count": null,
   "metadata": {},
   "outputs": [],
   "source": [
    "print(\"Essayons de ne pas faire d'erreur en calculant 2+2 !\"\n",
    "2+2"
   ]
  },
  {
   "cell_type": "markdown",
   "metadata": {},
   "source": [
    "Il Manque une parenthèse fermante sur la première ligne; ajoutez-la et ré-exécutez cette cellule."
   ]
  },
  {
   "cell_type": "markdown",
   "metadata": {},
   "source": [
    "## Trouvez de l'aide\n",
    "\n",
    "Utiliser `?` après quelquechose pour trouver de l'aide."
   ]
  },
  {
   "cell_type": "code",
   "execution_count": null,
   "metadata": {},
   "outputs": [],
   "source": [
    "print?"
   ]
  },
  {
   "cell_type": "markdown",
   "metadata": {},
   "source": [
    "## Utilisez cette page pour tester les examples du livre"
   ]
  },
  {
   "cell_type": "markdown",
   "metadata": {},
   "source": [
    "Vous êtes libres maintenant; nous avons installé quelques jeux de donnés et bibliothèque; amusez vous avec Python et quand vous setirez les limitation de cette environment; installez Python sur votre ordinateur pour allez plus loin."
   ]
  }
 ],
 "metadata": {
  "kernelspec": {
   "display_name": "Python 3",
   "language": "python",
   "name": "python3"
  },
  "language_info": {
   "codemirror_mode": {
    "name": "ipython",
    "version": 3
   },
   "file_extension": ".py",
   "mimetype": "text/x-python",
   "name": "python",
   "nbconvert_exporter": "python",
   "pygments_lexer": "ipython3",
   "version": "3.7.3"
  }
 },
 "nbformat": 4,
 "nbformat_minor": 4
}
