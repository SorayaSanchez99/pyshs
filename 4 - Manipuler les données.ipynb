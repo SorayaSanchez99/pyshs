{
 "cells": [
  {
   "cell_type": "markdown",
   "metadata": {},
   "source": [
    "# Chapitre 4 : Manipuler les données"
   ]
  },
  {
   "cell_type": "markdown",
   "metadata": {},
   "source": [
    "### Charger les données"
   ]
  },
  {
   "cell_type": "code",
   "execution_count": 2,
   "metadata": {
    "execution": {
     "iopub.execute_input": "2020-12-22T18:29:17.541038Z",
     "iopub.status.busy": "2020-12-22T18:29:17.536956Z",
     "iopub.status.idle": "2020-12-22T18:29:17.554402Z",
     "shell.execute_reply": "2020-12-22T18:29:17.554876Z"
    }
   },
   "outputs": [
    {
     "name": "stdout",
     "output_type": "stream",
     "text": [
      "DEP,P15_POP,P15_POPF,P15_POP0014,P15_POP\n"
     ]
    }
   ],
   "source": [
    "fichier = open(\"./data/base-pop-2015-reduite.csv\", \"r\")\n",
    "contenu = fichier.read()\n",
    "fichier.close()\n",
    "print(contenu[0:40])"
   ]
  },
  {
   "cell_type": "code",
   "execution_count": 3,
   "metadata": {
    "execution": {
     "iopub.execute_input": "2020-12-22T18:29:17.560044Z",
     "iopub.status.busy": "2020-12-22T18:29:17.558717Z",
     "iopub.status.idle": "2020-12-22T18:29:17.620313Z",
     "shell.execute_reply": "2020-12-22T18:29:17.621780Z"
    }
   },
   "outputs": [
    {
     "name": "stdout",
     "output_type": "stream",
     "text": [
      "DEP,P15_POP,P15_POPF,P15_POP0014,P15_POP\n"
     ]
    }
   ],
   "source": [
    "with open(\"./data/base-pop-2015-reduite.csv\", \"r\") as fichier:\n",
    "    contenu = fichier.read()\n",
    "print(contenu[0:40])"
   ]
  },
  {
   "cell_type": "code",
   "execution_count": 4,
   "metadata": {
    "execution": {
     "iopub.execute_input": "2020-12-22T18:29:17.630931Z",
     "iopub.status.busy": "2020-12-22T18:29:17.626781Z",
     "iopub.status.idle": "2020-12-22T18:29:17.649172Z",
     "shell.execute_reply": "2020-12-22T18:29:17.650690Z"
    }
   },
   "outputs": [],
   "source": [
    "with open(\"./resultat.txt\", \"w\") as fichier:\n",
    "    fichier.write(\"Moyenne sur la population : 25\")"
   ]
  },
  {
   "cell_type": "code",
   "execution_count": 5,
   "metadata": {
    "execution": {
     "iopub.execute_input": "2020-12-22T18:29:17.655454Z",
     "iopub.status.busy": "2020-12-22T18:29:17.654831Z",
     "iopub.status.idle": "2020-12-22T18:29:17.659341Z",
     "shell.execute_reply": "2020-12-22T18:29:17.658735Z"
    }
   },
   "outputs": [
    {
     "name": "stdout",
     "output_type": "stream",
     "text": [
      "DEP,P15_POP,P15_POPF,P15_POP0014,P15_POP\n"
     ]
    }
   ],
   "source": [
    "with open(\"data/base-pop-2015-reduite.csv\",\"r\") as f:\n",
    "    contenu = f.readlines()\n",
    "print(contenu[0][0:40])"
   ]
  },
  {
   "cell_type": "code",
   "execution_count": 6,
   "metadata": {
    "execution": {
     "iopub.execute_input": "2020-12-22T18:29:17.669958Z",
     "iopub.status.busy": "2020-12-22T18:29:17.667807Z",
     "iopub.status.idle": "2020-12-22T18:29:17.687093Z",
     "shell.execute_reply": "2020-12-22T18:29:17.687536Z"
    }
   },
   "outputs": [
    {
     "name": "stdout",
     "output_type": "stream",
     "text": [
      "La taille avant pop est 101\n",
      "La taille de la liste est maintenant  100\n"
     ]
    }
   ],
   "source": [
    "print(\"La taille avant pop est\", len(contenu))\n",
    "premier_element = contenu.pop(0)\n",
    "print(\"La taille de la liste est maintenant \", len(contenu))"
   ]
  },
  {
   "cell_type": "code",
   "execution_count": 7,
   "metadata": {
    "execution": {
     "iopub.execute_input": "2020-12-22T18:29:17.692398Z",
     "iopub.status.busy": "2020-12-22T18:29:17.691828Z",
     "iopub.status.idle": "2020-12-22T18:29:17.785522Z",
     "shell.execute_reply": "2020-12-22T18:29:17.784072Z"
    }
   },
   "outputs": [
    {
     "name": "stdout",
     "output_type": "stream",
     "text": [
      "['01', '631877', '319925.910897514', '128088.557317217']\n"
     ]
    }
   ],
   "source": [
    "donnees = []\n",
    "for ligne in contenu:\n",
    "    ligne_decoupe = ligne.split(\",\")\n",
    "    donnees.append(ligne_decoupe)\n",
    "print(donnees[0][0:4])"
   ]
  },
  {
   "cell_type": "code",
   "execution_count": 8,
   "metadata": {
    "execution": {
     "iopub.execute_input": "2020-12-22T18:29:17.885359Z",
     "iopub.status.busy": "2020-12-22T18:29:17.882299Z",
     "iopub.status.idle": "2020-12-22T18:29:17.925624Z",
     "shell.execute_reply": "2020-12-22T18:29:17.923411Z"
    }
   },
   "outputs": [
    {
     "name": "stdout",
     "output_type": "stream",
     "text": [
      "72026.7773473066\n"
     ]
    }
   ],
   "source": [
    "print(donnees[4][2])"
   ]
  },
  {
   "cell_type": "code",
   "execution_count": 9,
   "metadata": {
    "execution": {
     "iopub.execute_input": "2020-12-22T18:29:17.948421Z",
     "iopub.status.busy": "2020-12-22T18:29:17.941132Z",
     "iopub.status.idle": "2020-12-22T18:29:17.962645Z",
     "shell.execute_reply": "2020-12-22T18:29:17.959442Z"
    }
   },
   "outputs": [],
   "source": [
    "with open(\"./data/base-pop-2015-reduite.csv\",\"r\", \n",
    "                    encoding=\"latin1\") as fichier:\n",
    "    contenu = fichier.read()"
   ]
  },
  {
   "cell_type": "code",
   "execution_count": 10,
   "metadata": {
    "execution": {
     "iopub.execute_input": "2020-12-22T18:29:18.035328Z",
     "iopub.status.busy": "2020-12-22T18:29:18.019614Z",
     "iopub.status.idle": "2020-12-22T18:29:18.057008Z",
     "shell.execute_reply": "2020-12-22T18:29:18.049545Z"
    }
   },
   "outputs": [],
   "source": [
    "contenu = [i.replace(\" \",\"_\") for i in contenu]"
   ]
  },
  {
   "cell_type": "code",
   "execution_count": 11,
   "metadata": {
    "execution": {
     "iopub.execute_input": "2020-12-22T18:29:18.084643Z",
     "iopub.status.busy": "2020-12-22T18:29:18.075284Z",
     "iopub.status.idle": "2020-12-22T18:29:18.091900Z",
     "shell.execute_reply": "2020-12-22T18:29:18.090634Z"
    }
   },
   "outputs": [
    {
     "name": "stdout",
     "output_type": "stream",
     "text": [
      "Il y a 18 régions en France\n"
     ]
    }
   ],
   "source": [
    "nb_region_fr = 18\n",
    "print(\"Il y a {} régions en France\".format(nb_region_fr))"
   ]
  },
  {
   "cell_type": "code",
   "execution_count": 12,
   "metadata": {
    "execution": {
     "iopub.execute_input": "2020-12-22T18:29:18.120491Z",
     "iopub.status.busy": "2020-12-22T18:29:18.107596Z",
     "iopub.status.idle": "2020-12-22T18:29:18.135445Z",
     "shell.execute_reply": "2020-12-22T18:29:18.134217Z"
    }
   },
   "outputs": [
    {
     "name": "stdout",
     "output_type": "stream",
     "text": [
      "['01', 'Ain', 'Auvergne-Rhône-Alpes', 'Bourg-en-Bresse', '\"5']\n"
     ]
    }
   ],
   "source": [
    "with open(\"./data/departements-francais.csv\",\"r\") as file:\n",
    "    contenu = file.readlines()\n",
    "donnees = [ligne.split(\",\") for ligne in contenu]\n",
    "print(donnees[1][0:5])"
   ]
  },
  {
   "cell_type": "code",
   "execution_count": 13,
   "metadata": {
    "execution": {
     "iopub.execute_input": "2020-12-22T18:29:18.151693Z",
     "iopub.status.busy": "2020-12-22T18:29:18.147403Z",
     "iopub.status.idle": "2020-12-22T18:29:18.159449Z",
     "shell.execute_reply": "2020-12-22T18:29:18.158769Z"
    }
   },
   "outputs": [
    {
     "name": "stdout",
     "output_type": "stream",
     "text": [
      "['01', 'Ain', 'Auvergne-Rhône-Alpes', 'Bourg-en-Bresse', '5']\n"
     ]
    }
   ],
   "source": [
    "# Définir une fonction de nettoyage\n",
    "def nettoyage(ligne):\n",
    "    nouvelle_ligne = ligne.replace('\"','')\n",
    "    nouvelle_ligne = nouvelle_ligne.replace(\"\\n\",\"\")\n",
    "    return nouvelle_ligne\n",
    "\n",
    "# Charger les données\n",
    "with open(\"./data/departements-francais.csv\",\"r\") as file:\n",
    "    contenu = file.readlines()\n",
    "    \n",
    "# Appliquer et afficher\n",
    "donnees = [nettoyage(ligne).split(\",\") for ligne in contenu]\n",
    "print(donnees[1][0:5])"
   ]
  },
  {
   "cell_type": "code",
   "execution_count": 14,
   "metadata": {
    "execution": {
     "iopub.execute_input": "2020-12-22T18:29:18.182098Z",
     "iopub.status.busy": "2020-12-22T18:29:18.172938Z",
     "iopub.status.idle": "2020-12-22T18:29:18.191602Z",
     "shell.execute_reply": "2020-12-22T18:29:18.192425Z"
    }
   },
   "outputs": [
    {
     "name": "stdout",
     "output_type": "stream",
     "text": [
      "Il y a 18 noms composés\n"
     ]
    }
   ],
   "source": [
    "nb_compose = 0\n",
    "\n",
    "for ligne in donnees:\n",
    "    nom = ligne[3]\n",
    "    if (nom.count(\"-\") > 0) or (nom.count(\" \") > 0):\n",
    "        nb_compose += 1\n",
    "\n",
    "print(\"Il y a {} noms composés\".format(nb_compose))"
   ]
  },
  {
   "cell_type": "markdown",
   "metadata": {},
   "source": [
    "### Utiliser les expressions régulières"
   ]
  },
  {
   "cell_type": "code",
   "execution_count": 15,
   "metadata": {
    "attributes": {
     "classes": [
      "python "
     ],
     "id": ""
    },
    "execution": {
     "iopub.execute_input": "2020-12-22T18:29:18.201811Z",
     "iopub.status.busy": "2020-12-22T18:29:18.200543Z",
     "iopub.status.idle": "2020-12-22T18:29:18.252907Z",
     "shell.execute_reply": "2020-12-22T18:29:18.253476Z"
    }
   },
   "outputs": [
    {
     "name": "stdout",
     "output_type": "stream",
     "text": [
      "['Bouches-du-Rhône', 'Bas-Rhin']\n"
     ]
    }
   ],
   "source": [
    "import regex as re\n",
    "\n",
    "texte = \"A Marseille (Bouches-du-Rhône) la pratique du vélo\\\n",
    "         se développe difficilement, surtout en comparaison\\\n",
    "          avec Strasbourg (Bas-Rhin).\"\n",
    "departements = re.findall(\"\\((.*?)\\)\",texte)\n",
    "print(departements)"
   ]
  },
  {
   "cell_type": "markdown",
   "metadata": {},
   "source": [
    "### Attention"
   ]
  },
  {
   "cell_type": "code",
   "execution_count": 16,
   "metadata": {
    "execution": {
     "iopub.execute_input": "2020-12-22T18:29:18.258881Z",
     "iopub.status.busy": "2020-12-22T18:29:18.258242Z",
     "iopub.status.idle": "2020-12-22T18:29:18.263395Z",
     "shell.execute_reply": "2020-12-22T18:29:18.275503Z"
    }
   },
   "outputs": [
    {
     "name": "stdout",
     "output_type": "stream",
     "text": [
      "['mange'] ['mange', 'moi']\n"
     ]
    }
   ],
   "source": [
    "a = [\"mange\"]\n",
    "b = a\n",
    "b = b + [\"moi\"]\n",
    "print(a, b)"
   ]
  },
  {
   "cell_type": "code",
   "execution_count": 17,
   "metadata": {
    "execution": {
     "iopub.execute_input": "2020-12-22T18:29:18.287126Z",
     "iopub.status.busy": "2020-12-22T18:29:18.286305Z",
     "iopub.status.idle": "2020-12-22T18:29:18.290902Z",
     "shell.execute_reply": "2020-12-22T18:29:18.290298Z"
    }
   },
   "outputs": [
    {
     "name": "stdout",
     "output_type": "stream",
     "text": [
      "['mange', 'moi'] ['mange', 'moi']\n"
     ]
    }
   ],
   "source": [
    "a = [\"mange\"]\n",
    "b = a\n",
    "b.append(\"moi\")\n",
    "print(a, b)"
   ]
  }
 ],
 "metadata": {
  "kernelspec": {
   "display_name": "Python 3",
   "language": "python",
   "name": "python3"
  },
  "language_info": {
   "codemirror_mode": {
    "name": "ipython",
    "version": 3
   },
   "file_extension": ".py",
   "mimetype": "text/x-python",
   "name": "python",
   "nbconvert_exporter": "python",
   "pygments_lexer": "ipython3",
   "version": "3.7.7"
  }
 },
 "nbformat": 4,
 "nbformat_minor": 4
}
