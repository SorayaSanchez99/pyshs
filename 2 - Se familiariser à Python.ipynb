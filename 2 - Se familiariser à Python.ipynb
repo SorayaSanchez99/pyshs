{
 "cells": [
  {
   "cell_type": "markdown",
   "metadata": {},
   "source": [
    "# Chapitre 2 : Se familiariser à Python"
   ]
  },
  {
   "cell_type": "markdown",
   "metadata": {},
   "source": [
    "Ce Notebook contient le code du chapitre 2"
   ]
  },
  {
   "cell_type": "markdown",
   "metadata": {},
   "source": [
    "### Première ligne de code du manuel"
   ]
  },
  {
   "cell_type": "code",
   "execution_count": 1,
   "metadata": {
    "execution": {
     "iopub.execute_input": "2020-12-22T18:29:02.666107Z",
     "iopub.status.busy": "2020-12-22T18:29:02.649395Z",
     "iopub.status.idle": "2020-12-22T18:29:02.671662Z",
     "shell.execute_reply": "2020-12-22T18:29:02.672424Z"
    }
   },
   "outputs": [
    {
     "name": "stdout",
     "output_type": "stream",
     "text": [
      "Je suis une cellule code d'un Notebook Jupyter\n"
     ]
    }
   ],
   "source": [
    "print(\"Je suis une cellule code d'un Notebook Jupyter\")"
   ]
  },
  {
   "cell_type": "markdown",
   "metadata": {},
   "source": [
    "### Premier morceau de code"
   ]
  },
  {
   "cell_type": "code",
   "execution_count": 3,
   "metadata": {
    "execution": {
     "iopub.execute_input": "2020-12-22T18:29:02.714667Z",
     "iopub.status.busy": "2020-12-22T18:29:02.708870Z",
     "iopub.status.idle": "2020-12-22T18:29:02.746578Z",
     "shell.execute_reply": "2020-12-22T18:29:02.746110Z"
    }
   },
   "outputs": [
    {
     "name": "stdout",
     "output_type": "stream",
     "text": [
      "Le texte a :\n",
      " 52 caractères \n",
      " 10 mots\n"
     ]
    }
   ],
   "source": [
    "entree = input()\n",
    "nombre_caracteres = len(entree)\n",
    "nombre_mots = len(entree.split())\n",
    "print(\"Le texte a :\\n {} caractères \\n {} mots\"\\\n",
    "                .format(nombre_caracteres,nombre_mots))"
   ]
  },
  {
   "cell_type": "markdown",
   "metadata": {},
   "source": [
    "### Une erreur"
   ]
  },
  {
   "cell_type": "code",
   "execution_count": 5,
   "metadata": {
    "attributes": {
     "classes": [],
     "error": "True",
     "id": ""
    },
    "execution": {
     "iopub.execute_input": "2020-12-22T18:29:02.784922Z",
     "iopub.status.busy": "2020-12-22T18:29:02.783755Z",
     "iopub.status.idle": "2020-12-22T18:29:02.803592Z",
     "shell.execute_reply": "2020-12-22T18:29:02.801720Z"
    },
    "tags": [
     "raises-exception"
    ]
   },
   "outputs": [
    {
     "ename": "SyntaxError",
     "evalue": "unexpected EOF while parsing (<ipython-input-5-23963163c405>, line 1)",
     "output_type": "error",
     "traceback": [
      "\u001b[0;36m  File \u001b[0;32m\"<ipython-input-5-23963163c405>\"\u001b[0;36m, line \u001b[0;32m1\u001b[0m\n\u001b[0;31m    print(\"Essayons de ne pas faire d'erreur\"\u001b[0m\n\u001b[0m                                             ^\u001b[0m\n\u001b[0;31mSyntaxError\u001b[0m\u001b[0;31m:\u001b[0m unexpected EOF while parsing\n"
     ]
    }
   ],
   "source": [
    "print(\"Essayons de ne pas faire d'erreur\""
   ]
  },
  {
   "cell_type": "markdown",
   "metadata": {},
   "source": [
    "### Une deuxième erreur"
   ]
  },
  {
   "cell_type": "code",
   "execution_count": 6,
   "metadata": {
    "attributes": {
     "classes": [],
     "error": "True",
     "id": ""
    },
    "execution": {
     "iopub.execute_input": "2020-12-22T18:29:02.914383Z",
     "iopub.status.busy": "2020-12-22T18:29:02.912611Z",
     "iopub.status.idle": "2020-12-22T18:29:02.929384Z",
     "shell.execute_reply": "2020-12-22T18:29:02.922623Z"
    },
    "tags": [
     "raises-exception"
    ]
   },
   "outputs": [
    {
     "ename": "SyntaxError",
     "evalue": "invalid syntax (<ipython-input-6-e8c2182df66b>, line 2)",
     "output_type": "error",
     "traceback": [
      "\u001b[0;36m  File \u001b[0;32m\"<ipython-input-6-e8c2182df66b>\"\u001b[0;36m, line \u001b[0;32m2\u001b[0m\n\u001b[0;31m    2+2\u001b[0m\n\u001b[0m    ^\u001b[0m\n\u001b[0;31mSyntaxError\u001b[0m\u001b[0;31m:\u001b[0m invalid syntax\n"
     ]
    }
   ],
   "source": [
    "print(\"Additionnons 2 et 2\"\n",
    "2+2"
   ]
  },
  {
   "cell_type": "markdown",
   "metadata": {},
   "source": [
    "### Regarder l'aide d'une fonction"
   ]
  },
  {
   "cell_type": "code",
   "execution_count": 8,
   "metadata": {
    "execution": {
     "iopub.execute_input": "2020-12-22T18:29:03.053747Z",
     "iopub.status.busy": "2020-12-22T18:29:03.053155Z",
     "iopub.status.idle": "2020-12-22T18:29:03.061018Z",
     "shell.execute_reply": "2020-12-22T18:29:03.061958Z"
    }
   },
   "outputs": [
    {
     "name": "stdout",
     "output_type": "stream",
     "text": [
      "\u001b[0;31mDocstring:\u001b[0m\n",
      "print(value, ..., sep=' ', end='\\n', file=sys.stdout, flush=False)\n",
      "\n",
      "Prints the values to a stream, or to sys.stdout by default.\n",
      "Optional keyword arguments:\n",
      "file:  a file-like object (stream); defaults to the current sys.stdout.\n",
      "sep:   string inserted between values, default a space.\n",
      "end:   string appended after the last value, default a newline.\n",
      "flush: whether to forcibly flush the stream.\n",
      "\u001b[0;31mType:\u001b[0m      builtin_function_or_method\n",
      "\n"
     ]
    }
   ],
   "source": [
    "print?"
   ]
  },
  {
   "cell_type": "markdown",
   "metadata": {},
   "source": [
    "### Définir une variable"
   ]
  },
  {
   "cell_type": "code",
   "execution_count": 9,
   "metadata": {
    "execution": {
     "iopub.execute_input": "2020-12-22T18:29:03.066352Z",
     "iopub.status.busy": "2020-12-22T18:29:03.065584Z",
     "iopub.status.idle": "2020-12-22T18:29:03.069797Z",
     "shell.execute_reply": "2020-12-22T18:29:03.069150Z"
    }
   },
   "outputs": [],
   "source": [
    "pop_france = 67190000"
   ]
  },
  {
   "cell_type": "code",
   "execution_count": 10,
   "metadata": {
    "execution": {
     "iopub.execute_input": "2020-12-22T18:29:03.079228Z",
     "iopub.status.busy": "2020-12-22T18:29:03.078222Z",
     "iopub.status.idle": "2020-12-22T18:29:03.082330Z",
     "shell.execute_reply": "2020-12-22T18:29:03.082912Z"
    }
   },
   "outputs": [
    {
     "name": "stdout",
     "output_type": "stream",
     "text": [
      "67190000\n"
     ]
    }
   ],
   "source": [
    "print(pop_france)"
   ]
  },
  {
   "cell_type": "markdown",
   "metadata": {},
   "source": [
    "### Modifier une variable"
   ]
  },
  {
   "cell_type": "code",
   "execution_count": 11,
   "metadata": {
    "execution": {
     "iopub.execute_input": "2020-12-22T18:29:03.099420Z",
     "iopub.status.busy": "2020-12-22T18:29:03.097481Z",
     "iopub.status.idle": "2020-12-22T18:29:03.108630Z",
     "shell.execute_reply": "2020-12-22T18:29:03.105958Z"
    }
   },
   "outputs": [
    {
     "name": "stdout",
     "output_type": "stream",
     "text": [
      "73909000.0\n"
     ]
    }
   ],
   "source": [
    "pop_france_augmentation = pop_france + 0.1*pop_france\n",
    "print(pop_france_augmentation)"
   ]
  },
  {
   "cell_type": "code",
   "execution_count": 12,
   "metadata": {
    "execution": {
     "iopub.execute_input": "2020-12-22T18:29:03.113449Z",
     "iopub.status.busy": "2020-12-22T18:29:03.112777Z",
     "iopub.status.idle": "2020-12-22T18:29:03.117589Z",
     "shell.execute_reply": "2020-12-22T18:29:03.118722Z"
    }
   },
   "outputs": [
    {
     "name": "stdout",
     "output_type": "stream",
     "text": [
      "67190000\n",
      "67452041.0\n"
     ]
    }
   ],
   "source": [
    "print(pop_france)\n",
    "pop_france = pop_france + 0.0039*pop_france\n",
    "print(pop_france)"
   ]
  },
  {
   "cell_type": "code",
   "execution_count": 13,
   "metadata": {
    "execution": {
     "iopub.execute_input": "2020-12-22T18:29:03.133754Z",
     "iopub.status.busy": "2020-12-22T18:29:03.132800Z",
     "iopub.status.idle": "2020-12-22T18:29:03.137832Z",
     "shell.execute_reply": "2020-12-22T18:29:03.138695Z"
    }
   },
   "outputs": [
    {
     "data": {
      "text/plain": [
       "int"
      ]
     },
     "execution_count": 13,
     "metadata": {},
     "output_type": "execute_result"
    }
   ],
   "source": [
    "pop_france = 67190000\n",
    "type(pop_france)"
   ]
  },
  {
   "cell_type": "markdown",
   "metadata": {},
   "source": [
    "### Type d'une variable"
   ]
  },
  {
   "cell_type": "code",
   "execution_count": 14,
   "metadata": {
    "execution": {
     "iopub.execute_input": "2020-12-22T18:29:03.147325Z",
     "iopub.status.busy": "2020-12-22T18:29:03.146613Z",
     "iopub.status.idle": "2020-12-22T18:29:03.154337Z",
     "shell.execute_reply": "2020-12-22T18:29:03.155084Z"
    }
   },
   "outputs": [
    {
     "data": {
      "text/plain": [
       "float"
      ]
     },
     "execution_count": 14,
     "metadata": {},
     "output_type": "execute_result"
    }
   ],
   "source": [
    "pop_france_M = 67.19\n",
    "type(pop_france_M)"
   ]
  },
  {
   "cell_type": "code",
   "execution_count": 15,
   "metadata": {
    "execution": {
     "iopub.execute_input": "2020-12-22T18:29:03.165306Z",
     "iopub.status.busy": "2020-12-22T18:29:03.163877Z",
     "iopub.status.idle": "2020-12-22T18:29:03.169479Z",
     "shell.execute_reply": "2020-12-22T18:29:03.169989Z"
    }
   },
   "outputs": [
    {
     "name": "stdout",
     "output_type": "stream",
     "text": [
      "None\n"
     ]
    }
   ],
   "source": [
    "variable = None\n",
    "print(variable)"
   ]
  },
  {
   "cell_type": "markdown",
   "metadata": {},
   "source": [
    "### Chaîne de caractères"
   ]
  },
  {
   "cell_type": "code",
   "execution_count": 16,
   "metadata": {
    "execution": {
     "iopub.execute_input": "2020-12-22T18:29:03.179558Z",
     "iopub.status.busy": "2020-12-22T18:29:03.177716Z",
     "iopub.status.idle": "2020-12-22T18:29:03.195524Z",
     "shell.execute_reply": "2020-12-22T18:29:03.194712Z"
    }
   },
   "outputs": [
    {
     "data": {
      "text/plain": [
       "str"
      ]
     },
     "execution_count": 16,
     "metadata": {},
     "output_type": "execute_result"
    }
   ],
   "source": [
    "pays = \"France\"\n",
    "type(pays)"
   ]
  },
  {
   "cell_type": "code",
   "execution_count": 17,
   "metadata": {
    "execution": {
     "iopub.execute_input": "2020-12-22T18:29:03.214407Z",
     "iopub.status.busy": "2020-12-22T18:29:03.213217Z",
     "iopub.status.idle": "2020-12-22T18:29:03.234133Z",
     "shell.execute_reply": "2020-12-22T18:29:03.220192Z"
    }
   },
   "outputs": [
    {
     "name": "stdout",
     "output_type": "stream",
     "text": [
      "\"C'est un petit pas pour l'homme…\" – N. Armstrong\n",
      "\"C'est un petit pas pour l'homme…\" – N. Armstrong\n",
      "\"C'est un petit pas pour l'homme…\" – N. Armstrong\n",
      "\"C'est un petit pas pour l'homme…\" – N. Armstrong\n"
     ]
    }
   ],
   "source": [
    "print('\"C\\'est un petit pas pour l\\'homme…\" – N. Armstrong')\n",
    "print(\"\\\"C'est un petit pas pour l'homme…\\\" – N. Armstrong\")\n",
    "print('''\"C'est un petit pas pour l'homme…\" – N. Armstrong''')\n",
    "print(\"\"\"\"C'est un petit pas pour l'homme…\" – N. Armstrong\"\"\")"
   ]
  },
  {
   "cell_type": "code",
   "execution_count": 18,
   "metadata": {
    "execution": {
     "iopub.execute_input": "2020-12-22T18:29:03.246484Z",
     "iopub.status.busy": "2020-12-22T18:29:03.243821Z",
     "iopub.status.idle": "2020-12-22T18:29:03.252596Z",
     "shell.execute_reply": "2020-12-22T18:29:03.253250Z"
    }
   },
   "outputs": [
    {
     "name": "stdout",
     "output_type": "stream",
     "text": [
      "Population 67190000 habitants\n"
     ]
    }
   ],
   "source": [
    "texte = \"Population \" + str(pop_france) + \" habitants\"\n",
    "print(texte)"
   ]
  },
  {
   "cell_type": "markdown",
   "metadata": {},
   "source": [
    "### Liste et dictionnaire"
   ]
  },
  {
   "cell_type": "code",
   "execution_count": 19,
   "metadata": {
    "execution": {
     "iopub.execute_input": "2020-12-22T18:29:03.272413Z",
     "iopub.status.busy": "2020-12-22T18:29:03.270063Z",
     "iopub.status.idle": "2020-12-22T18:29:03.278683Z",
     "shell.execute_reply": "2020-12-22T18:29:03.277881Z"
    }
   },
   "outputs": [
    {
     "name": "stdout",
     "output_type": "stream",
     "text": [
      "[81, 60, 46, 11, 8, 0.5]\n"
     ]
    }
   ],
   "source": [
    "liste_populations = [81,60,46,11,8,0.5]\n",
    "print(liste_populations)"
   ]
  },
  {
   "cell_type": "code",
   "execution_count": 20,
   "metadata": {
    "execution": {
     "iopub.execute_input": "2020-12-22T18:29:03.290619Z",
     "iopub.status.busy": "2020-12-22T18:29:03.285296Z",
     "iopub.status.idle": "2020-12-22T18:29:03.298532Z",
     "shell.execute_reply": "2020-12-22T18:29:03.297310Z"
    }
   },
   "outputs": [
    {
     "name": "stdout",
     "output_type": "stream",
     "text": [
      "[81, 60, 46, 11, 8]\n"
     ]
    }
   ],
   "source": [
    "liste_populations.remove(0.5)\n",
    "print(liste_populations)"
   ]
  },
  {
   "cell_type": "code",
   "execution_count": 21,
   "metadata": {
    "execution": {
     "iopub.execute_input": "2020-12-22T18:29:03.304824Z",
     "iopub.status.busy": "2020-12-22T18:29:03.303481Z",
     "iopub.status.idle": "2020-12-22T18:29:03.316444Z",
     "shell.execute_reply": "2020-12-22T18:29:03.315007Z"
    }
   },
   "outputs": [
    {
     "name": "stdout",
     "output_type": "stream",
     "text": [
      "[81, 60, 46, 11, 8, 67]\n"
     ]
    }
   ],
   "source": [
    "liste_populations.append(67)\n",
    "print(liste_populations)"
   ]
  },
  {
   "cell_type": "code",
   "execution_count": 22,
   "metadata": {
    "execution": {
     "iopub.execute_input": "2020-12-22T18:29:03.322814Z",
     "iopub.status.busy": "2020-12-22T18:29:03.321670Z",
     "iopub.status.idle": "2020-12-22T18:29:03.343482Z",
     "shell.execute_reply": "2020-12-22T18:29:03.342189Z"
    }
   },
   "outputs": [
    {
     "name": "stdout",
     "output_type": "stream",
     "text": [
      "[82, 60, 46, 11, 8, 67]\n"
     ]
    }
   ],
   "source": [
    "liste_populations[0] = 82\n",
    "print(liste_populations)"
   ]
  },
  {
   "cell_type": "code",
   "execution_count": 23,
   "metadata": {
    "execution": {
     "iopub.execute_input": "2020-12-22T18:29:03.354046Z",
     "iopub.status.busy": "2020-12-22T18:29:03.351748Z",
     "iopub.status.idle": "2020-12-22T18:29:03.360973Z",
     "shell.execute_reply": "2020-12-22T18:29:03.358723Z"
    }
   },
   "outputs": [
    {
     "name": "stdout",
     "output_type": "stream",
     "text": [
      "81\n"
     ]
    }
   ],
   "source": [
    "dictionnaire_populations = {\n",
    "                     \"Allemagne\":81,\n",
    "                     \"Italie\":60,\n",
    "                     \"Espagne\":46,\n",
    "                     \"Belgique\":11,\n",
    "                     \"Suisse\":8,\n",
    "                     \"Luxembourg\":0.5\n",
    "                      }\n",
    "print(dictionnaire_populations[\"Allemagne\"])"
   ]
  },
  {
   "cell_type": "code",
   "execution_count": 24,
   "metadata": {
    "execution": {
     "iopub.execute_input": "2020-12-22T18:29:03.369396Z",
     "iopub.status.busy": "2020-12-22T18:29:03.368583Z",
     "iopub.status.idle": "2020-12-22T18:29:03.376156Z",
     "shell.execute_reply": "2020-12-22T18:29:03.373655Z"
    }
   },
   "outputs": [
    {
     "data": {
      "text/plain": [
       "{'Allemagne': 81,\n",
       " 'Italie': 60,\n",
       " 'Espagne': 46,\n",
       " 'Belgique': 11,\n",
       " 'Suisse': 8,\n",
       " 'Luxembourg': 0.5,\n",
       " 'Royaume-Uni': 65}"
      ]
     },
     "execution_count": 24,
     "metadata": {},
     "output_type": "execute_result"
    }
   ],
   "source": [
    "dictionnaire_populations[\"Royaume-Uni\"] = 65\n",
    "dictionnaire_populations"
   ]
  },
  {
   "cell_type": "code",
   "execution_count": 25,
   "metadata": {
    "execution": {
     "iopub.execute_input": "2020-12-22T18:29:03.401141Z",
     "iopub.status.busy": "2020-12-22T18:29:03.387594Z",
     "iopub.status.idle": "2020-12-22T18:29:03.408313Z",
     "shell.execute_reply": "2020-12-22T18:29:03.408753Z"
    }
   },
   "outputs": [
    {
     "data": {
      "text/plain": [
       "{'Allemagne': 82,\n",
       " 'Italie': 60,\n",
       " 'Espagne': 46,\n",
       " 'Belgique': 11,\n",
       " 'Suisse': 8,\n",
       " 'Luxembourg': 0.5,\n",
       " 'Royaume-Uni': 65}"
      ]
     },
     "execution_count": 25,
     "metadata": {},
     "output_type": "execute_result"
    }
   ],
   "source": [
    "dictionnaire_populations[\"Allemagne\"] = 82\n",
    "dictionnaire_populations"
   ]
  },
  {
   "cell_type": "code",
   "execution_count": 26,
   "metadata": {
    "execution": {
     "iopub.execute_input": "2020-12-22T18:29:03.413886Z",
     "iopub.status.busy": "2020-12-22T18:29:03.413146Z",
     "iopub.status.idle": "2020-12-22T18:29:03.424699Z",
     "shell.execute_reply": "2020-12-22T18:29:03.425483Z"
    }
   },
   "outputs": [
    {
     "name": "stdout",
     "output_type": "stream",
     "text": [
      "7\n"
     ]
    }
   ],
   "source": [
    "nombre = len(dictionnaire_populations)\n",
    "print(nombre)"
   ]
  },
  {
   "cell_type": "markdown",
   "metadata": {},
   "source": [
    "### Booléens, sets et comparaisons"
   ]
  },
  {
   "cell_type": "code",
   "execution_count": 27,
   "metadata": {
    "execution": {
     "iopub.execute_input": "2020-12-22T18:29:03.434609Z",
     "iopub.status.busy": "2020-12-22T18:29:03.433432Z",
     "iopub.status.idle": "2020-12-22T18:29:03.445488Z",
     "shell.execute_reply": "2020-12-22T18:29:03.446769Z"
    }
   },
   "outputs": [
    {
     "name": "stdout",
     "output_type": "stream",
     "text": [
      "Le type de la comparaison est  <class 'bool'>\n",
      "La valeur de la comparaison est  False\n"
     ]
    }
   ],
   "source": [
    "comparaison = (\"deux\" == 2)\n",
    "print(\"Le type de la comparaison est \", type(comparaison))\n",
    "print(\"La valeur de la comparaison est \", comparaison)"
   ]
  },
  {
   "cell_type": "code",
   "execution_count": 28,
   "metadata": {
    "execution": {
     "iopub.execute_input": "2020-12-22T18:29:03.471186Z",
     "iopub.status.busy": "2020-12-22T18:29:03.453718Z",
     "iopub.status.idle": "2020-12-22T18:29:03.475581Z",
     "shell.execute_reply": "2020-12-22T18:29:03.474940Z"
    }
   },
   "outputs": [
    {
     "name": "stdout",
     "output_type": "stream",
     "text": [
      "5\n"
     ]
    }
   ],
   "source": [
    "exemple = [1,2,3,4,5,5,5,5,5]\n",
    "exemple_set = set(exemple)\n",
    "print(len(exemple_set))"
   ]
  },
  {
   "cell_type": "code",
   "execution_count": 29,
   "metadata": {
    "attributes": {
     "classes": [],
     "error": "True)",
     "id": ""
    },
    "execution": {
     "iopub.execute_input": "2020-12-22T18:29:03.480458Z",
     "iopub.status.busy": "2020-12-22T18:29:03.479559Z",
     "iopub.status.idle": "2020-12-22T18:29:03.811410Z",
     "shell.execute_reply": "2020-12-22T18:29:03.807627Z"
    },
    "tags": [
     "raises-exception"
    ]
   },
   "outputs": [
    {
     "name": "stdout",
     "output_type": "stream",
     "text": [
      "2\n"
     ]
    },
    {
     "ename": "TypeError",
     "evalue": "'tuple' object does not support item assignment",
     "output_type": "error",
     "traceback": [
      "\u001b[0;31m------------------------------------------------------------\u001b[0m",
      "\u001b[0;31mTypeError\u001b[0m                  Traceback (most recent call last)",
      "\u001b[0;32m<ipython-input-29-e06b63678274>\u001b[0m in \u001b[0;36m<module>\u001b[0;34m\u001b[0m\n\u001b[1;32m      1\u001b[0m \u001b[0mexemple\u001b[0m \u001b[0;34m=\u001b[0m \u001b[0;34m(\u001b[0m\u001b[0;36m1\u001b[0m\u001b[0;34m,\u001b[0m\u001b[0;36m2\u001b[0m\u001b[0;34m)\u001b[0m\u001b[0;34m\u001b[0m\u001b[0;34m\u001b[0m\u001b[0m\n\u001b[1;32m      2\u001b[0m \u001b[0mprint\u001b[0m\u001b[0;34m(\u001b[0m\u001b[0mexemple\u001b[0m\u001b[0;34m[\u001b[0m\u001b[0;36m1\u001b[0m\u001b[0;34m]\u001b[0m\u001b[0;34m)\u001b[0m\u001b[0;34m\u001b[0m\u001b[0;34m\u001b[0m\u001b[0m\n\u001b[0;32m----> 3\u001b[0;31m \u001b[0mexemple\u001b[0m\u001b[0;34m[\u001b[0m\u001b[0;36m1\u001b[0m\u001b[0;34m]\u001b[0m \u001b[0;34m=\u001b[0m \u001b[0;36m3\u001b[0m\u001b[0;34m\u001b[0m\u001b[0;34m\u001b[0m\u001b[0m\n\u001b[0m",
      "\u001b[0;31mTypeError\u001b[0m: 'tuple' object does not support item assignment"
     ]
    }
   ],
   "source": [
    "exemple = (1,2)\n",
    "print(exemple[1])\n",
    "exemple[1] = 3"
   ]
  },
  {
   "cell_type": "markdown",
   "metadata": {},
   "source": [
    "### Commentaires"
   ]
  },
  {
   "cell_type": "code",
   "execution_count": null,
   "metadata": {
    "execution": {
     "iopub.status.busy": "2020-12-22T18:29:03.819908Z",
     "iopub.status.idle": "2020-12-22T18:29:03.824106Z",
     "shell.execute_reply": "2020-12-22T18:29:03.825878Z"
    }
   },
   "outputs": [],
   "source": [
    "couleurs = [\"bleu\", \"blanc\", \"rouge\"]\n",
    "# print(couleurs[2])"
   ]
  },
  {
   "cell_type": "markdown",
   "metadata": {},
   "source": [
    "### Condition if"
   ]
  },
  {
   "cell_type": "code",
   "execution_count": 30,
   "metadata": {
    "execution": {
     "iopub.execute_input": "2020-12-22T18:29:03.933479Z",
     "iopub.status.busy": "2020-12-22T18:29:03.932405Z",
     "iopub.status.idle": "2020-12-22T18:29:03.936632Z",
     "shell.execute_reply": "2020-12-22T18:29:03.937466Z"
    }
   },
   "outputs": [
    {
     "name": "stdout",
     "output_type": "stream",
     "text": [
      "Plus de dix millions\n"
     ]
    }
   ],
   "source": [
    "pop_france = 67                 \n",
    "if pop_france >= 10:           \n",
    "    print('Plus de dix millions')    \n",
    "else:                     \n",
    "    print('Moins de dix millions')  "
   ]
  },
  {
   "cell_type": "code",
   "execution_count": 31,
   "metadata": {
    "execution": {
     "iopub.execute_input": "2020-12-22T18:29:03.946729Z",
     "iopub.status.busy": "2020-12-22T18:29:03.946189Z",
     "iopub.status.idle": "2020-12-22T18:29:03.951690Z",
     "shell.execute_reply": "2020-12-22T18:29:03.952925Z"
    }
   },
   "outputs": [
    {
     "name": "stdout",
     "output_type": "stream",
     "text": [
      "Grand pays européen\n"
     ]
    }
   ],
   "source": [
    "population = 18\n",
    "continent = \"Europe\"\n",
    "\n",
    "if (population < 10) and (continent==\"Europe\"):\n",
    "    print('Petit pays européen')\n",
    "if (population < 10) and (continent!=\"Europe\"):\n",
    "    print('Petit pays non européen')\n",
    "if (population >= 10) and (continent!=\"Europe\"):\n",
    "    print('Grand pays non européen')\n",
    "if (population >= 10) and (continent==\"Europe\"):\n",
    "    print('Grand pays européen')"
   ]
  },
  {
   "cell_type": "markdown",
   "metadata": {},
   "source": [
    "### Boucle for"
   ]
  },
  {
   "cell_type": "code",
   "execution_count": 32,
   "metadata": {
    "execution": {
     "iopub.execute_input": "2020-12-22T18:29:03.963205Z",
     "iopub.status.busy": "2020-12-22T18:29:03.962427Z",
     "iopub.status.idle": "2020-12-22T18:29:03.970117Z",
     "shell.execute_reply": "2020-12-22T18:29:03.969537Z"
    }
   },
   "outputs": [
    {
     "name": "stdout",
     "output_type": "stream",
     "text": [
      "Population 81\n",
      "Population 67\n",
      "Population 60\n",
      "Population 46\n",
      "Population 11\n",
      "Population 8\n",
      "Population 0.5\n"
     ]
    }
   ],
   "source": [
    "liste_populations = [81,67,60,46,11,8,0.5]\n",
    "for p in liste_populations:\n",
    "    print(\"Population\",p)"
   ]
  },
  {
   "cell_type": "code",
   "execution_count": 33,
   "metadata": {
    "execution": {
     "iopub.execute_input": "2020-12-22T18:29:03.980374Z",
     "iopub.status.busy": "2020-12-22T18:29:03.979392Z",
     "iopub.status.idle": "2020-12-22T18:29:03.997042Z",
     "shell.execute_reply": "2020-12-22T18:29:03.999812Z"
    }
   },
   "outputs": [
    {
     "name": "stdout",
     "output_type": "stream",
     "text": [
      "Allemagne 82\n",
      "Italie 60\n",
      "Espagne 46\n",
      "Belgique 11\n",
      "Suisse 8\n",
      "Luxembourg 0.5\n",
      "Royaume-Uni 65\n"
     ]
    }
   ],
   "source": [
    "for pays in dictionnaire_populations:\n",
    "    print(pays,dictionnaire_populations[pays])"
   ]
  },
  {
   "cell_type": "code",
   "execution_count": 34,
   "metadata": {
    "execution": {
     "iopub.execute_input": "2020-12-22T18:29:04.009359Z",
     "iopub.status.busy": "2020-12-22T18:29:04.008607Z",
     "iopub.status.idle": "2020-12-22T18:29:04.012465Z",
     "shell.execute_reply": "2020-12-22T18:29:04.013150Z"
    }
   },
   "outputs": [
    {
     "name": "stdout",
     "output_type": "stream",
     "text": [
      "['>=10', '>=10', '>=10', '>=10', '>=10', '<10', '<10']\n"
     ]
    }
   ],
   "source": [
    "liste_recodee = []\n",
    "for p in liste_populations:\n",
    "    if p >=10:\n",
    "        liste_recodee.append(\">=10\")\n",
    "    else:\n",
    "        liste_recodee.append(\"<10\")\n",
    "print(liste_recodee)"
   ]
  },
  {
   "cell_type": "markdown",
   "metadata": {},
   "source": [
    "### Définition d'une fonction"
   ]
  },
  {
   "cell_type": "code",
   "execution_count": 35,
   "metadata": {
    "execution": {
     "iopub.execute_input": "2020-12-22T18:29:04.018787Z",
     "iopub.status.busy": "2020-12-22T18:29:04.018186Z",
     "iopub.status.idle": "2020-12-22T18:29:04.021909Z",
     "shell.execute_reply": "2020-12-22T18:29:04.022894Z"
    }
   },
   "outputs": [],
   "source": [
    "def recoder_population(population_entree):\n",
    "    if population_entree >=10:\n",
    "        return \">=10\"\n",
    "    else:\n",
    "        return \"<10\""
   ]
  },
  {
   "cell_type": "code",
   "execution_count": 36,
   "metadata": {
    "execution": {
     "iopub.execute_input": "2020-12-22T18:29:04.042651Z",
     "iopub.status.busy": "2020-12-22T18:29:04.036538Z",
     "iopub.status.idle": "2020-12-22T18:29:04.055656Z",
     "shell.execute_reply": "2020-12-22T18:29:04.054285Z"
    }
   },
   "outputs": [
    {
     "data": {
      "text/plain": [
       "'>=10'"
      ]
     },
     "execution_count": 36,
     "metadata": {},
     "output_type": "execute_result"
    }
   ],
   "source": [
    "recoder_population(11)"
   ]
  },
  {
   "cell_type": "code",
   "execution_count": 37,
   "metadata": {
    "execution": {
     "iopub.execute_input": "2020-12-22T18:29:04.063731Z",
     "iopub.status.busy": "2020-12-22T18:29:04.062576Z",
     "iopub.status.idle": "2020-12-22T18:29:04.070020Z",
     "shell.execute_reply": "2020-12-22T18:29:04.070565Z"
    }
   },
   "outputs": [
    {
     "name": "stdout",
     "output_type": "stream",
     "text": [
      "['>=10', '>=10', '>=10', '>=10', '>=10', '<10', '<10']\n"
     ]
    }
   ],
   "source": [
    "pop_reco = []\n",
    "for pop in liste_populations:\n",
    "    pop_reco.append(recoder_population(pop))\n",
    "print(pop_reco)"
   ]
  },
  {
   "cell_type": "code",
   "execution_count": 38,
   "metadata": {
    "execution": {
     "iopub.execute_input": "2020-12-22T18:29:04.077102Z",
     "iopub.status.busy": "2020-12-22T18:29:04.076226Z",
     "iopub.status.idle": "2020-12-22T18:29:04.081123Z",
     "shell.execute_reply": "2020-12-22T18:29:04.079659Z"
    }
   },
   "outputs": [
    {
     "data": {
      "text/plain": [
       "['>=10', '>=10', '>=10', '>=10', '>=10', '<10', '<10']"
      ]
     },
     "execution_count": 38,
     "metadata": {},
     "output_type": "execute_result"
    }
   ],
   "source": [
    "[recoder_population(pop) for pop in liste_populations]"
   ]
  },
  {
   "cell_type": "code",
   "execution_count": 39,
   "metadata": {
    "execution": {
     "iopub.execute_input": "2020-12-22T18:29:04.087252Z",
     "iopub.status.busy": "2020-12-22T18:29:04.086477Z",
     "iopub.status.idle": "2020-12-22T18:29:04.103876Z",
     "shell.execute_reply": "2020-12-22T18:29:04.103162Z"
    }
   },
   "outputs": [],
   "source": [
    "def recoder_population(pop, seuil=10):\n",
    "    if pop >= seuil:\n",
    "        return \"Plus de \"+str(seuil)+\" millions d'habitants\"\n",
    "    else:\n",
    "        return \"Moins de \"+str(seuil)+\" millions d'habitants\""
   ]
  },
  {
   "cell_type": "code",
   "execution_count": 40,
   "metadata": {
    "execution": {
     "iopub.execute_input": "2020-12-22T18:29:04.118354Z",
     "iopub.status.busy": "2020-12-22T18:29:04.117544Z",
     "iopub.status.idle": "2020-12-22T18:29:04.141794Z",
     "shell.execute_reply": "2020-12-22T18:29:04.141233Z"
    }
   },
   "outputs": [
    {
     "name": "stdout",
     "output_type": "stream",
     "text": [
      "Plus de 10 millions d'habitants\n",
      "Moins de 30 millions d'habitants\n"
     ]
    }
   ],
   "source": [
    "print(recoder_population(20))\n",
    "print(recoder_population(20,30))"
   ]
  },
  {
   "cell_type": "markdown",
   "metadata": {},
   "source": [
    "### Portée des variables et exceptions"
   ]
  },
  {
   "cell_type": "code",
   "execution_count": 41,
   "metadata": {
    "attributes": {
     "classes": [],
     "error": "True)",
     "id": ""
    },
    "execution": {
     "iopub.execute_input": "2020-12-22T18:29:04.149799Z",
     "iopub.status.busy": "2020-12-22T18:29:04.146367Z",
     "iopub.status.idle": "2020-12-22T18:29:04.187266Z",
     "shell.execute_reply": "2020-12-22T18:29:04.184874Z"
    },
    "tags": [
     "raises-exception"
    ]
   },
   "outputs": [
    {
     "name": "stdout",
     "output_type": "stream",
     "text": [
      "variable globale :  20\n",
      "variable locale :  10\n"
     ]
    },
    {
     "ename": "NameError",
     "evalue": "name 'variable_locale' is not defined",
     "output_type": "error",
     "traceback": [
      "\u001b[0;31m------------------------------------------------------------\u001b[0m",
      "\u001b[0;31mNameError\u001b[0m                  Traceback (most recent call last)",
      "\u001b[0;32m<ipython-input-41-4f1c89838731>\u001b[0m in \u001b[0;36m<module>\u001b[0;34m\u001b[0m\n\u001b[1;32m      9\u001b[0m \u001b[0;31m# Exécution de la fonction\u001b[0m\u001b[0;34m\u001b[0m\u001b[0;34m\u001b[0m\u001b[0;34m\u001b[0m\u001b[0m\n\u001b[1;32m     10\u001b[0m \u001b[0mtest\u001b[0m\u001b[0;34m(\u001b[0m\u001b[0;34m)\u001b[0m\u001b[0;34m\u001b[0m\u001b[0;34m\u001b[0m\u001b[0m\n\u001b[0;32m---> 11\u001b[0;31m \u001b[0mprint\u001b[0m\u001b[0;34m(\u001b[0m\u001b[0mvariable_locale\u001b[0m\u001b[0;34m)\u001b[0m\u001b[0;34m\u001b[0m\u001b[0;34m\u001b[0m\u001b[0m\n\u001b[0m",
      "\u001b[0;31mNameError\u001b[0m: name 'variable_locale' is not defined"
     ]
    }
   ],
   "source": [
    "variable_globale = 20\n",
    "\n",
    "# Définition d'une fonction\n",
    "def test():\n",
    "    variable_locale = 10\n",
    "    print(\"variable globale : \",variable_globale)\n",
    "    print(\"variable locale : \",variable_locale)\n",
    "\n",
    "# Exécution de la fonction\n",
    "test() \n",
    "print(variable_locale)"
   ]
  },
  {
   "cell_type": "code",
   "execution_count": 42,
   "metadata": {
    "attributes": {
     "classes": [],
     "error": "True",
     "id": ""
    },
    "execution": {
     "iopub.execute_input": "2020-12-22T18:29:04.303439Z",
     "iopub.status.busy": "2020-12-22T18:29:04.302250Z",
     "iopub.status.idle": "2020-12-22T18:29:04.332876Z",
     "shell.execute_reply": "2020-12-22T18:29:04.330914Z"
    },
    "tags": [
     "raises-exception"
    ]
   },
   "outputs": [
    {
     "ename": "KeyError",
     "evalue": "'Brésil'",
     "output_type": "error",
     "traceback": [
      "\u001b[0;31m------------------------------------------------------------\u001b[0m",
      "\u001b[0;31mKeyError\u001b[0m                   Traceback (most recent call last)",
      "\u001b[0;32m<ipython-input-42-b7791435ce99>\u001b[0m in \u001b[0;36m<module>\u001b[0;34m\u001b[0m\n\u001b[0;32m----> 1\u001b[0;31m \u001b[0mprint\u001b[0m\u001b[0;34m(\u001b[0m\u001b[0mdictionnaire_populations\u001b[0m\u001b[0;34m[\u001b[0m\u001b[0;34m\"Brésil\"\u001b[0m\u001b[0;34m]\u001b[0m\u001b[0;34m)\u001b[0m\u001b[0;34m\u001b[0m\u001b[0;34m\u001b[0m\u001b[0m\n\u001b[0m",
      "\u001b[0;31mKeyError\u001b[0m: 'Brésil'"
     ]
    }
   ],
   "source": [
    "print(dictionnaire_populations[\"Brésil\"])"
   ]
  },
  {
   "cell_type": "code",
   "execution_count": 43,
   "metadata": {
    "execution": {
     "iopub.execute_input": "2020-12-22T18:29:04.445235Z",
     "iopub.status.busy": "2020-12-22T18:29:04.440920Z",
     "iopub.status.idle": "2020-12-22T18:29:04.460913Z",
     "shell.execute_reply": "2020-12-22T18:29:04.463760Z"
    }
   },
   "outputs": [
    {
     "name": "stdout",
     "output_type": "stream",
     "text": [
      "Entrée absente\n"
     ]
    }
   ],
   "source": [
    "try:\n",
    "  print(dictionnaire_populations[\"Brésil\"])\n",
    "except:\n",
    "  print(\"Entrée absente\")"
   ]
  }
 ],
 "metadata": {
  "kernelspec": {
   "display_name": "Python 3",
   "language": "python",
   "name": "python3"
  },
  "language_info": {
   "codemirror_mode": {
    "name": "ipython",
    "version": 3
   },
   "file_extension": ".py",
   "mimetype": "text/x-python",
   "name": "python",
   "nbconvert_exporter": "python",
   "pygments_lexer": "ipython3",
   "version": "3.7.7"
  }
 },
 "nbformat": 4,
 "nbformat_minor": 4
}
